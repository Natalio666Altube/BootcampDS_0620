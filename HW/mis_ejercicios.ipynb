{
 "cells": [
  {
   "cell_type": "code",
   "execution_count": 74,
   "metadata": {},
   "outputs": [
    {
     "output_type": "stream",
     "name": "stdout",
     "text": "Hello World\n"
    }
   ],
   "source": [
    "print(\"Hello World\")"
   ]
  },
  {
   "cell_type": "code",
   "execution_count": 21,
   "metadata": {},
   "outputs": [
    {
     "output_type": "stream",
     "name": "stdout",
     "text": "Hello World\n<class 'str'>\n"
    }
   ],
   "source": [
    "X = (\"Hello World\")\n",
    "print(\"Hello World\")\n",
    "print(type(X))"
   ]
  },
  {
   "cell_type": "code",
   "execution_count": 14,
   "metadata": {},
   "outputs": [
    {
     "output_type": "stream",
     "name": "stdout",
     "text": "Hola Natalio!\n"
    }
   ],
   "source": [
    "name = input(\"Introduce tu nombre\")\n",
    "print(\"Hola \" + name + \"!\")"
   ]
  },
  {
   "cell_type": "code",
   "execution_count": 240,
   "metadata": {},
   "outputs": [
    {
     "output_type": "stream",
     "name": "stdout",
     "text": "['Matematicas', 'Fisica', 'Quimica', 'Literatura', 'Cs.Sociales']\n"
    }
   ],
   "source": [
    "lista_asignaturas = [\"Matematicas\", \"Fisica\", \"Quimica\", \"Literatura\", \"Cs.Sociales\" ]\n",
    "print(lista_asignaturas)\n"
   ]
  },
  {
   "cell_type": "markdown",
   "metadata": {},
   "source": [
    "-Crear una variable que contenga la CONCATENACIÓN de vuestro apellido con vuestra calle.\n",
    "-Otra variable que contenga la CONCATENACIÓN de vuestra calle, un espacio en blanco y la edad del compañero. Utilizar función str.\n",
    "-Otra variable que sea igual al número de caracteres que tiene vuestro apellido SUMADO al número de vuestra calle.\n",
    "-Crear una función llamada 'funcion_vivienda\" que, al invocarla, muestre por pantalla vuestro apellido, un espacio en blanco y el número de vuestra calle. La función recibe un parámetro de entrada que será la lista de alumnos cuando se la invoque.\n",
    "-Crear una función llamada 'funcion_alumno_edad' que reciba dos argumentos por parámetro (la lista de alumnos de la clase y la lista de los valores previamente creada cuando es invocada) y muestre por pantalla el alumno al que le habéis pedido la edad, dos puntos y su edad.\n",
    " \n",
    " \n",
    "\n",
    "\n"
   ]
  },
  {
   "cell_type": "markdown",
   "metadata": {},
   "source": [
    "-Crear una variable que contenga la CONCATENACIÓN de vuestro apellido con vuestra calle."
   ]
  },
  {
   "cell_type": "code",
   "execution_count": 57,
   "metadata": {},
   "outputs": [
    {
     "output_type": "stream",
     "name": "stdout",
     "text": "Natalio Toledo \n"
    }
   ],
   "source": [
    "name_street = \"Natalio\" + \" Toledo \"\n",
    "print(name_street)"
   ]
  },
  {
   "cell_type": "markdown",
   "metadata": {},
   "source": [
    "-Otra variable que contenga la CONCATENACIÓN de vuestra calle, un espacio en blanco y la edad del compañero. Utilizar función str."
   ]
  },
  {
   "cell_type": "code",
   "execution_count": 83,
   "metadata": {},
   "outputs": [
    {
     "output_type": "stream",
     "name": "stdout",
     "text": "Toledo 35\n"
    }
   ],
   "source": [
    "street_35 = \"Toledo \" +  str(35)\n",
    "print(street_35)"
   ]
  },
  {
   "cell_type": "markdown",
   "metadata": {},
   "source": [
    "-Otra variable que sea igual al número de caracteres que tiene vuestro apellido SUMADO al número de vuestra calle."
   ]
  },
  {
   "cell_type": "code",
   "execution_count": 85,
   "metadata": {},
   "outputs": [
    {
     "output_type": "stream",
     "name": "stdout",
     "text": "38\n"
    }
   ],
   "source": [
    "subname_32 = 6\n",
    "toledo32 = 32\n",
    "message3 = subname_32 + toledo32\n",
    "print(message3)\n",
    "\n"
   ]
  },
  {
   "cell_type": "code",
   "execution_count": null,
   "metadata": {},
   "outputs": [],
   "source": []
  },
  {
   "cell_type": "code",
   "execution_count": 50,
   "metadata": {},
   "outputs": [
    {
     "output_type": "execute_result",
     "data": {
      "text/plain": "1"
     },
     "metadata": {},
     "execution_count": 50
    }
   ],
   "source": [
    "len(subname_32)"
   ]
  },
  {
   "cell_type": "markdown",
   "metadata": {},
   "source": [
    " -Crear una función llamada 'funcion_vivienda\" que, al invocarla, muestre por pantalla vuestro apellido, un espacio en blanco y el número de vuestra calle. "
   ]
  },
  {
   "cell_type": "code",
   "execution_count": 109,
   "metadata": {},
   "outputs": [
    {
     "output_type": "stream",
     "name": "stdout",
     "text": "Altube 32\n"
    },
    {
     "output_type": "execute_result",
     "data": {
      "text/plain": "'Rosario32'"
     },
     "metadata": {},
     "execution_count": 109
    }
   ],
   "source": [
    "LISTA_ALUMNOS: [\"Gabriel\" , \"Natalio\" , \"Rosario\" , \"Cristina\" , \"Clara\" , \"Mónica\" , \"Alba\" , \"Elsa\" , \"Roxana\" , \"Tomas\", \"Jose Luis\", \"Jose Maria\", \"Jalex\"]\n",
    "funcion_vivenda = \"Altube \" + str(32)\n",
    "print(funcion_vivenda)\n",
    "input(funcion_vivenda ) + str(32)"
   ]
  },
  {
   "cell_type": "code",
   "execution_count": 197,
   "metadata": {},
   "outputs": [
    {
     "output_type": "stream",
     "name": "stdout",
     "text": "NATALIO tiene 7 letras\n"
    }
   ],
   "source": [
    "name = input(\"nombre\")\n",
    "print(name.upper() + \" tiene \" + str(len(name)) + \" letras\")"
   ]
  },
  {
   "cell_type": "markdown",
   "metadata": {},
   "source": [
    "-Crear una función llamada 'funcion_alumno_edad' que reciba dos argumentos por parámetro (la lista de alumnos de la clase y la lista de los valores previamente creada cuando es invocada) y muestre por pantalla el alumno al que le habéis pedido la edad, dos puntos y su edad.\n"
   ]
  },
  {
   "cell_type": "code",
   "execution_count": 249,
   "metadata": {},
   "outputs": [],
   "source": [
    "LISTA_ALUMNOS: (\"Gabriel 18 \" , \"Natalio 29\" , \"Rosario38\" , \"Cristina46\" , \"Clara29\" , \"Mónica47\" , \"Alba 29\" , \"Elsa 36\" , \"Roxana 24\" , \"Tomas 31\", \"Jose Luis 47\", \"Jose Maria 45\", \"Jalex 33\", \"David 37\")\n",
    "name = input(\"nombre\")\n",
    "edad = str(input(\"alumnoedad:\"))\n",
    "\n"
   ]
  },
  {
   "cell_type": "markdown",
   "metadata": {},
   "source": [
    "Escribir un programa que pregunte al usuario su edad y muestre por pantalla si es mayor de edad o no."
   ]
  },
  {
   "cell_type": "code",
   "execution_count": 199,
   "metadata": {},
   "outputs": [
    {
     "output_type": "stream",
     "name": "stdout",
     "text": "mayor\n"
    }
   ],
   "source": [
    "EDAD = int(input( \"Cuántos años tienes?\"))\n",
    "if   EDAD < 18:\n",
    "     print(\"menor.\")\n",
    "else:\n",
    "     print(\"mayor\")  "
   ]
  },
  {
   "cell_type": "markdown",
   "metadata": {},
   "source": [
    "Escribir un programa que almacene la cadena de caracteres contraseña en una variable, pregunte al usuario por la contraseña e imprima por pantalla si la contraseña introducida por el usuario coincide con la guardada en la variable sin tener en cuenta mayúsculas y minúsculas"
   ]
  },
  {
   "cell_type": "code",
   "execution_count": null,
   "metadata": {},
   "outputs": [],
   "source": []
  },
  {
   "cell_type": "markdown",
   "metadata": {},
   "source": [
    "Escribir un programa que pida al usuario dos números y muestre por pantalla su división. Si el divisor es cero el programa debe mostrar un error.\n"
   ]
  },
  {
   "cell_type": "code",
   "execution_count": 232,
   "metadata": {},
   "outputs": [
    {
     "output_type": "stream",
     "name": "stdout",
     "text": "2.0\n"
    }
   ],
   "source": [
    "x = float(input(\"num1:\"))\n",
    "y = float(input(\"num2:\"))\n",
    "z = float(input(\"num1:\")) // float(input(\"num2:\"))\n",
    "if y == 0:\n",
    "    print(\"Error\")\n",
    "else: \n",
    "    print(z)\n",
    "\n"
   ]
  },
  {
   "cell_type": "markdown",
   "metadata": {},
   "source": [
    "Escribir un programa que pida al usuario un número entero y muestre por pantalla si es par o impar."
   ]
  },
  {
   "cell_type": "code",
   "execution_count": 182,
   "metadata": {},
   "outputs": [
    {
     "output_type": "stream",
     "name": "stdout",
     "text": "0\n"
    }
   ],
   "source": [
    "x = int(input(\"número:\"))\n",
    "print(x)\n",
    "\n"
   ]
  },
  {
   "cell_type": "markdown",
   "metadata": {},
   "source": [
    "Para tributar un determinado impuesto se debe ser mayor de 16 años y tener unos ingresos iguales o superiores a 1000 € mensuales. Escribir un programa que pregunte al usuario su edad y sus ingresos mensuales y muestre por pantalla si el usuario tiene que tributar o no.\n"
   ]
  },
  {
   "cell_type": "code",
   "execution_count": 196,
   "metadata": {},
   "outputs": [
    {
     "output_type": "stream",
     "name": "stdout",
     "text": "SÍ\n"
    }
   ],
   "source": [
    "x = float(input(\"edad:\"))\n",
    "y = float(input(\"IM:\"))\n",
    "if x >= 18 and y >= 1000:\n",
    "    print(\"SÍ\")\n",
    "else:\n",
    "    print(\"NO\")\n",
    "\n",
    "\n"
   ]
  },
  {
   "cell_type": "markdown",
   "metadata": {},
   "source": [
    "Escribir un programa que almacene las asignaturas de un curso (por ejemplo Matemáticas, Física, Química, Historia y Lengua) en una lista y la muestre por pantalla el mensaje Yo estudio <asignatura>, donde <asignatura> es cada una de las asignaturas de la lista.\n"
   ]
  },
  {
   "cell_type": "code",
   "execution_count": 259,
   "metadata": {},
   "outputs": [
    {
     "output_type": "stream",
     "name": "stdout",
     "text": "('Matematicas', 'Fisica', 'Quimica', 'Literatura', 'Cs.Sociales')\nYo estudio programación\n"
    }
   ],
   "source": [
    "lista_asignaturas1 = \"Matematicas\", \"Fisica\", \"Quimica\", \"Literatura\", \"Cs.Sociales\"\n",
    "print(lista_asignaturas1)\n",
    "x = \"Yo estudio \" +  input(\"Cuál es tu asignatura?\")\n",
    "print(x)\n",
    "\n"
   ]
  },
  {
   "cell_type": "markdown",
   "metadata": {},
   "source": [
    "Escribir un programa que almacene las asignaturas de un curso (por ejemplo Matemáticas, Física, Química, Historia y Lengua) en una lista, pregunte al usuario la nota que ha sacado en cada asignatura, y después las muestre por pantalla con el mensaje En <asignatura> has sacado <nota> donde <asignatura> es cada una des las asignaturas de la lista y <nota> cada una de las correspondientes notas introducidas por el usuario.\n",
    "\n",
    "\n",
    " "
   ]
  },
  {
   "cell_type": "code",
   "execution_count": 282,
   "metadata": {},
   "outputs": [
    {
     "output_type": "stream",
     "name": "stdout",
     "text": "<class 'tuple'>\nMatemáticas 10\nLiteratura 6\nQuímica 8\nCs.Sociales 9\nEducación Física 8\n"
    }
   ],
   "source": [
    "lista_asignaturas2 = \"Matematicas\", \"Fisica\", \"Quimica\", \"Literatura\", \"Cs.Sociales\"\n",
    "print(type(lista_asignaturas2))\n",
    "x = \"Matemáticas \" + input(\"Qué has sacado en Matemáticas\") \n",
    "print(x)\n",
    "y = \"Literatura \" + input(\"Qué has sacado en Literatura\")\n",
    "print(y)\n",
    "z = \"Química \" + input(\"Qué has sacado en Química\")\n",
    "print(z)\n",
    "n = \"Cs.Sociales \" + input(\"Qué has sacado en Cs.Sociales\")\n",
    "print(n)\n",
    "w = \"Educación Física \" + input(\"Qué has sacado en Educación Física\")\n",
    "print(w) \n"
   ]
  },
  {
   "cell_type": "markdown",
   "metadata": {},
   "source": [
    "Escribir un programa que pregunte al usuario los números ganadores de la lotería primitiva, los almacene en una lista y los muestre por pantalla ordenados de menor a mayor.\n"
   ]
  },
  {
   "cell_type": "code",
   "execution_count": 316,
   "metadata": {},
   "outputs": [
    {
     "output_type": "stream",
     "name": "stdout",
     "text": "<class 'list'>\n10\n['13,14,16,19,31,38,15,9']\n"
    }
   ],
   "source": [
    "t = [\"13,14,16,19,31,38,15,9\"]\n",
    "print(type(t))\n",
    "t = list(t)\n",
    "x = input(\"Cuáles son los números ganadores?\")\n",
    "print(x)\n",
    "print(t)\n",
    "t.append(t)\n",
    "\n",
    "#como indico que almacene en una lista, y en cuanto al orden, sé que es con if/else, pero no sé como aplicarlo?\n",
    "\n"
   ]
  },
  {
   "cell_type": "markdown",
   "metadata": {},
   "source": [
    "Escribir un programa que almacene en una lista los números del 1 al 10 y los muestre por pantalla en orden inverso separados por comas.\n"
   ]
  },
  {
   "cell_type": "code",
   "execution_count": 374,
   "metadata": {},
   "outputs": [
    {
     "output_type": "stream",
     "name": "stdout",
     "text": "<class 'list'>\n['1,2,3,4,5,6,7,8,9,10']\n['10,9,8,7,6,5,4,3,2,1']\n"
    }
   ],
   "source": [
    "Nros = [\"1,2,3,4,5,6,7,8,9,10\"]\n",
    "print(type(Nros))\n",
    "print(Nros)\n",
    "Nros1 = [\"10,9,8,7,6,5,4,3,2,1\"]\n",
    "print (Nros1)"
   ]
  },
  {
   "cell_type": "markdown",
   "metadata": {},
   "source": [
    "Escribir un programa que almacene las asignaturas de un curso (por ejemplo Matemáticas, Física, Química, Historia y Lengua) en una lista, pregunte al usuario la nota que ha sacado en cada asignatura y elimine de la lista las asignaturas aprobadas. Al final el programa debe mostrar por pantalla las asignaturas que el usuario tiene que repetir."
   ]
  },
  {
   "cell_type": "code",
   "execution_count": 385,
   "metadata": {},
   "outputs": [
    {
     "output_type": "stream",
     "name": "stdout",
     "text": "Matemáticas 7\nLiteratura 7\nQuímica 7\nCs.Sociales 7\n"
    }
   ],
   "source": [
    "materias = [\"Matematicas\", \"Fisica\", \"Quimica\", \"Literatura\", \"Cs.Sociales\"]\n",
    "x = \"Matemáticas \" + input(\"Qué has sacado en Matemáticas\") \n",
    "print(x)\n",
    "y = \"Literatura \" + input(\"Qué has sacado en Literatura\")\n",
    "print(y)\n",
    "z = \"Química \" + input(\"Qué has sacado en Química\")\n",
    "print(z)\n",
    "n = \"Cs.Sociales \" + input(\"Qué has sacado en Cs.Sociales\")\n",
    "print(n)\n",
    "w = \"Educación Física \" + input(\"Qué has sacado en Educación Física\")\n",
    "\n",
    "#como hago que elimine las asignaturas aprobadas, y muestre las desaprobadas ?\n"
   ]
  },
  {
   "cell_type": "markdown",
   "metadata": {},
   "source": []
  },
  {
   "cell_type": "code",
   "execution_count": null,
   "metadata": {},
   "outputs": [],
   "source": []
  },
  {
   "cell_type": "code",
   "execution_count": null,
   "metadata": {},
   "outputs": [],
   "source": []
  },
  {
   "cell_type": "code",
   "execution_count": null,
   "metadata": {},
   "outputs": [],
   "source": []
  }
 ],
 "metadata": {
  "language_info": {
   "codemirror_mode": {
    "name": "ipython",
    "version": 3
   },
   "file_extension": ".py",
   "mimetype": "text/x-python",
   "name": "python",
   "nbconvert_exporter": "python",
   "pygments_lexer": "ipython3",
   "version": "3.7.6-final"
  },
  "orig_nbformat": 2,
  "kernelspec": {
   "name": "python3",
   "display_name": "Python 3"
  }
 },
 "nbformat": 4,
 "nbformat_minor": 2
}