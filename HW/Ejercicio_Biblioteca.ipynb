{
 "cells": [
  {
   "cell_type": "markdown",
   "metadata": {},
   "source": [
    "# Ejercicio La Biblioteca | Precurso DSJUN20 | The Bridge"
   ]
  },
  {
   "cell_type": "markdown",
   "metadata": {},
   "source": [
    "![biblioteca](https://static2.abc.es/media/familia/2018/11/02/AdobeStock_210538561-kJTF--620x349@abc.jpg)"
   ]
  },
  {
   "cell_type": "markdown",
   "metadata": {},
   "source": [
    "Es tu primer día de trabajo en la Biblioteca de tu barrio y ya tienes tu primera tarea. Te acaban de pasar una lista con libros y la lista de unidades disponibles."
   ]
  },
  {
   "cell_type": "code",
   "execution_count": 2,
   "metadata": {},
   "outputs": [],
   "source": [
    "libros = [\"El mal de Corcira\", \"Un mundo feliz\", \"Lolita\", \"Crimen y castigo\", \"Python from for to pro\",\\\n",
    "          \"El señor de los anillos\", \"Cien años de soledad\", \"Harry Potter\", \"Lectura Fácil\", \"Seda\",\\\n",
    "          \"La chica de nieve\", \"El día que se perdió la cordura\", \"Data Science\"]"
   ]
  },
  {
   "cell_type": "code",
   "execution_count": 3,
   "metadata": {},
   "outputs": [],
   "source": [
    "biblioteca = [(\"El mal de Corcira\",4),(\"Un mundo feliz\", 2),(\"Lolita\", 5),\\\n",
    "              (\"Crimen y castigo\",2),(\"Python from for to pro\", 0),(\"El señor de los anillos\", 6),\\\n",
    "              (\"Cien años de soledad\", 5),(\"Harry Potter\", 9),(\"Lectura Fácil\", 4),(\"Seda\", 2),\\\n",
    "              (\"La chica de nieve\", 6),(\"El día que se perdió la cordura\", 3), (\"Data Science\", 0)]"
   ]
  },
  {
   "cell_type": "markdown",
   "metadata": {},
   "source": [
    "1. ¿Cuántos títulos diferentes tienen en esta biblioteca?"
   ]
  },
  {
   "cell_type": "code",
   "execution_count": 10,
   "metadata": {
    "tags": []
   },
   "outputs": [
    {
     "output_type": "stream",
     "name": "stdout",
     "text": "{'Un mundo feliz', 'El mal de Corcira', 'El señor de los anillos', 'Harry Potter', 'Data Science', 'Lolita', 'Python from for to pro', 'Cien años de soledad', 'Crimen y castigo', 'La chica de nieve', 'El día que se perdió la cordura', 'Lectura Fácil', 'Seda'}\n"
    },
    {
     "output_type": "execute_result",
     "data": {
      "text/plain": "13"
     },
     "metadata": {},
     "execution_count": 10
    }
   ],
   "source": [
    "#your code here\n",
    "libros = [\"El mal de Corcira\", \"Un mundo feliz\", \"Lolita\", \"Crimen y castigo\", \"Python from for to pro\",\\\n",
    "          \"El señor de los anillos\", \"Cien años de soledad\", \"Harry Potter\", \"Lectura Fácil\", \"Seda\",\\\n",
    "          \"La chica de nieve\", \"El día que se perdió la cordura\", \"Data Science\"]\n",
    "x = set(libros)\n",
    "print(set(libros))\n",
    "len(x)\n"
   ]
  },
  {
   "cell_type": "markdown",
   "metadata": {},
   "source": [
    "2. ¿Cuántas letras componen la palabra *Seda*? "
   ]
  },
  {
   "cell_type": "code",
   "execution_count": 12,
   "metadata": {
    "tags": []
   },
   "outputs": [
    {
     "output_type": "stream",
     "name": "stdout",
     "text": "4\n"
    }
   ],
   "source": [
    "#your code here\n",
    "y = \"Seda\"\n",
    "print(len(y))"
   ]
  },
  {
   "cell_type": "markdown",
   "metadata": {},
   "source": [
    "3. ¿Cuántas unidades hay del libro *Seda*?"
   ]
  },
  {
   "cell_type": "code",
   "execution_count": 23,
   "metadata": {
    "tags": []
   },
   "outputs": [
    {
     "output_type": "execute_result",
     "data": {
      "text/plain": "('Seda', 2)"
     },
     "metadata": {},
     "execution_count": 23
    }
   ],
   "source": [
    "#your code here\n",
    "biblioteca = [(\"El mal de Corcira\",4),(\"Un mundo feliz\", 2),(\"Lolita\", 5),\\\n",
    "              (\"Crimen y castigo\",2),(\"Python from for to pro\", 0),(\"El señor de los anillos\", 6),\\\n",
    "              (\"Cien años de soledad\", 5),(\"Harry Potter\", 9),(\"Lectura Fácil\", 4),(\"Seda\", 2),\\\n",
    "              (\"La chica de nieve\", 6),(\"El día que se perdió la cordura\", 3), (\"Data Science\", 0)]\n",
    "biblioteca[9]\n",
    "\n",
    "\n",
    "              "
   ]
  },
  {
   "cell_type": "markdown",
   "metadata": {},
   "source": [
    "4. Quien registraba los libros antes de ti dejo pendiente de añadir a la lista **libros** la variable **pendiente**, además debió confundir el famoso libro de George Orwell *1984*, con un número, asignándolo como un integer.\n",
    "¿Puedes cambiarlo y pasar a string este elemento y añadirlo a **libros**?"
   ]
  },
  {
   "cell_type": "code",
   "execution_count": 28,
   "metadata": {
    "tags": []
   },
   "outputs": [
    {
     "output_type": "stream",
     "name": "stdout",
     "text": "['El mal de Corcira', 'Un mundo feliz', 'Lolita', 'Crimen y castigo', 'Python from for to pro', 'El señor de los anillos', 'Cien años de soledad', 'Harry Potter', 'Lectura Fácil', 'Seda', 'La chica de nieve', 'El día que se perdió la cordura', 'Data Science', '1984']\n"
    }
   ],
   "source": [
    "pendiente = \"1984\"\n",
    "libros = [\"El mal de Corcira\", \"Un mundo feliz\", \"Lolita\", \"Crimen y castigo\", \"Python from for to pro\",\\\n",
    "          \"El señor de los anillos\", \"Cien años de soledad\", \"Harry Potter\", \"Lectura Fácil\", \"Seda\",\\\n",
    "          \"La chica de nieve\", \"El día que se perdió la cordura\", \"Data Science\"]\n",
    "libros.append(pendiente) \n",
    "print(libros)         \n"
   ]
  },
  {
   "cell_type": "markdown",
   "metadata": {},
   "source": [
    "5. Te piden que añadas a esta lista el nuevo libro de Los Juegos del hambre que se titula *Balada de pájaros cantores y serpientes*. Has contado las unidades y han llegado 10. \n",
    "\n",
    "    a. Crea una variable con el título del libro, que se llame **libro_1**. Añade este elemento a la lista **libros**.\n",
    "\n",
    "    b. Crea una variable con el número de unidades, que se llame **uds_1**.\n",
    "\n",
    "    c. Crea una variable que sea una lista llamada **nuevo_libro** en el que su primer elemento sea **libro_1** y el segundo **uds_1**. \n",
    "\n",
    "    d. Convierte a **nuevo_libro** a tupla.\n",
    "    (muestra qué tipo es ahora esta variable)\n",
    "\n",
    "    e. Añade **nuevo_libro** a la lista **biblioteca** "
   ]
  },
  {
   "cell_type": "code",
   "execution_count": 68,
   "metadata": {
    "tags": []
   },
   "outputs": [
    {
     "output_type": "stream",
     "name": "stdout",
     "text": "['El mal de Corcira', 'Un mundo feliz', 'Lolita', 'Crimen y castigo', 'Python from for to pro', 'El señor de los anillos', 'Cien años de soledad', 'Harry Potter', 'Lectura Fácil', 'Seda', 'La chica de nieve', 'El día que se perdió la cordura', 'Data Science', '1984', 'balada_de_pájaros_cantores_y_serpientes', 'balada_de_pájaros_cantores_y_serpientes', 'balada_de_pájaros_cantores_y_serpientes', 'Balada de pájaros cantores y serpientes', 'Balada de pájaros cantores y serpientes', 'Balada de pájaros cantores y serpientes', 'Balada de pájaros cantores y serpientes', 'Balada de pájaros cantores y serpientes', 'Balada de pájaros cantores y serpientes', 'Balada de pájaros cantores y serpientes', 'Balada de pájaros cantores y serpientes', 'Balada de pájaros cantores y serpientes', 'Balada de pájaros cantores y serpientes', 'Balada de pájaros cantores y serpientes', 'Balada de pájaros cantores y serpientes', 'Balada de pájaros cantores y serpientes', 'Balada de pájaros cantores y serpientes', 'Balada de pájaros cantores y serpientes', 'Balada de pájaros cantores y serpientes', 'Balada de pájaros cantores y serpientes', 'Balada de pájaros cantores y serpientes', 'Balada de pájaros cantores y serpientes', 'Balada de pájaros cantores y serpientes', 'Balada de pájaros cantores y serpientes', 'Balada de pájaros cantores y serpientes', 'Balada de pájaros cantores y serpientes', 'Balada de pájaros cantores y serpientes', 'Balada de pájaros cantores y serpientes', 'Balada de pájaros cantores y serpientes', 'Balada de pájaros cantores y serpientes', 'Balada de pájaros cantores y serpientes', 'Balada de pájaros cantores y serpientes', 'Balada de pájaros cantores y serpientes', 'Balada de pájaros cantores y serpientes', 'Balada de pájaros cantores y serpientes']\n('Balada de pájaros cantores y serpientes', '10', 'El mal de Corcira, Un mundo feliz,Lolita,Crimen y castigo,Python fromfor to pro,El señor de los anillos, Cien años de soledad, Harry Potter, Lectura Fácil, Seda,La chica de nieve, El día que se perdió la cordura,Data Science')\n<class 'tuple'>\n[('El mal de Corcira', 4), ('Un mundo feliz', 2), ('Lolita', 5), ('Crimen y castigo', 2), ('Python from for to pro', 0), ('El señor de los anillos', 6), ('Cien años de soledad', 5), ('Harry Potter', 9), ('Lectura Fácil', 4), ('Seda', 2), ('La chica de nieve', 6), ('El día que se perdió la cordura', 3), ('Data Science', 0), ('Balada de pájaros cantores y serpientes', '10', 'El mal de Corcira, Un mundo feliz,Lolita,Crimen y castigo,Python fromfor to pro,El señor de los anillos, Cien años de soledad, Harry Potter, Lectura Fácil, Seda,La chica de nieve, El día que se perdió la cordura,Data Science'), ('Balada de pájaros cantores y serpientes', '10', 'El mal de Corcira, Un mundo feliz,Lolita,Crimen y castigo,Python fromfor to pro,El señor de los anillos, Cien años de soledad, Harry Potter, Lectura Fácil, Seda,La chica de nieve, El día que se perdió la cordura,Data Science'), ('Balada de pájaros cantores y serpientes', '10', 'El mal de Corcira, Un mundo feliz,Lolita,Crimen y castigo,Python fromfor to pro,El señor de los anillos, Cien años de soledad, Harry Potter, Lectura Fácil, Seda,La chica de nieve, El día que se perdió la cordura,Data Science')]\n"
    }
   ],
   "source": [
    "#a   #no logro definir porqué el libro_1 se me ha repetido infinidad de veces\n",
    "\n",
    "libro_1 = \"Balada de pájaros cantores y serpientes\"\n",
    "libros.append(libro_1)\n",
    "print(libros) \n",
    "#b\n",
    "uds_1 = \"10\"\n",
    "#c\n",
    "nuevo_libro = libro_1,uds_1,\"El mal de Corcira, Un mundo feliz,Lolita,Crimen y castigo,Python fromfor to pro,El señor de los anillos, Cien años de soledad, Harry Potter, Lectura Fácil, Seda,La chica de nieve, El día que se perdió la cordura,Data Science\" #en éste caso soy conciente de que (libro_1,uds_1) no están siendo \"str\" como el resto, sólo que cuando probaba incluírlos, me salía error, y del unico modo de agruparlos fue expresandolós en la cadena pero sin ser un str.\n",
    "print(nuevo_libro)\n",
    "#d\n",
    "tupla = (nuevo_libro)\n",
    "print(type(tupla))\n",
    "#e\n",
    "nueva_variable = (nuevo_libro)\n",
    "biblioteca.append(nueva_variable)\n",
    "print(biblioteca)\n"
   ]
  },
  {
   "cell_type": "markdown",
   "metadata": {},
   "source": [
    "6. Acaban de traer una unidad más de *El mal de Corcira*, añade una unidad más al segundo elemento del primer elemento de la lista **biblioteca**."
   ]
  },
  {
   "cell_type": "code",
   "execution_count": 90,
   "metadata": {
    "tags": []
   },
   "outputs": [
    {
     "output_type": "stream",
     "name": "stdout",
     "text": "5\n"
    }
   ],
   "source": [
    "biblioteca = [(\"El mal de Corcira\",4),(\"Un mundo feliz\", 2),(\"Lolita\", 5),\\\n",
    "              (\"Crimen y castigo\",2),(\"Python from for to pro\", 0),(\"El señor de los anillos\", 6),\\\n",
    "              (\"Cien años de soledad\", 5),(\"Harry Potter\", 9),(\"Lectura Fácil\", 4),(\"Seda\", 2),\\\n",
    "              (\"La chica de nieve\", 6),(\"El día que se perdió la cordura\", 3), (\"Data Science\", 0)]\n",
    "\n",
    "biblioteca[0][1] + (1)\n",
    "print(biblioteca[0][1] + (1))"
   ]
  },
  {
   "cell_type": "code",
   "execution_count": 20,
   "metadata": {},
   "outputs": [
    {
     "data": {
      "text/plain": [
       "4"
      ]
     },
     "execution_count": 20,
     "metadata": {},
     "output_type": "execute_result"
    }
   ],
   "source": [
    "biblioteca[0][1]"
   ]
  },
  {
   "cell_type": "code",
   "execution_count": 21,
   "metadata": {},
   "outputs": [
    {
     "ename": "TypeError",
     "evalue": "'tuple' object does not support item assignment",
     "output_type": "error",
     "traceback": [
      "\u001b[0;31m---------------------------------------------------------------------------\u001b[0m",
      "\u001b[0;31mTypeError\u001b[0m                                 Traceback (most recent call last)",
      "\u001b[0;32m<ipython-input-21-8a7bcc0d7ddc>\u001b[0m in \u001b[0;36m<module>\u001b[0;34m\u001b[0m\n\u001b[0;32m----> 1\u001b[0;31m \u001b[0mbiblioteca\u001b[0m\u001b[0;34m[\u001b[0m\u001b[0;36m0\u001b[0m\u001b[0;34m]\u001b[0m\u001b[0;34m[\u001b[0m\u001b[0;36m1\u001b[0m\u001b[0;34m]\u001b[0m \u001b[0;34m=\u001b[0m \u001b[0mbiblioteca\u001b[0m\u001b[0;34m[\u001b[0m\u001b[0;36m0\u001b[0m\u001b[0;34m]\u001b[0m\u001b[0;34m[\u001b[0m\u001b[0;36m1\u001b[0m\u001b[0;34m]\u001b[0m \u001b[0;34m-\u001b[0m \u001b[0;36m1\u001b[0m\u001b[0;34m\u001b[0m\u001b[0;34m\u001b[0m\u001b[0m\n\u001b[0m",
      "\u001b[0;31mTypeError\u001b[0m: 'tuple' object does not support item assignment"
     ]
    }
   ],
   "source": [
    "biblioteca[0][1] = biblioteca[0][1] - 1"
   ]
  },
  {
   "cell_type": "markdown",
   "metadata": {},
   "source": [
    "Busca en google este error y explica porqué no se puede añadir una unidad más. ¿Se te ocurre cómo podrías alterar este dato?"
   ]
  },
  {
   "cell_type": "code",
   "execution_count": 155,
   "metadata": {
    "tags": []
   },
   "outputs": [
    {
     "output_type": "stream",
     "name": "stdout",
     "text": "biblioteca[0][1]\n<class 'str'>\n"
    },
    {
     "output_type": "execute_result",
     "data": {
      "text/plain": "5"
     },
     "metadata": {},
     "execution_count": 155
    }
   ],
   "source": [
    "#your comment here\n",
    "\n",
    "#Por lo que busqué y recuerdo de las clases, las tuplas son inmutables, por lo tanto es imposible añadirle cualquier unidad.\n",
    "\n",
    "#en éste caso lo que hice fue asignarle una nueva variable que no condicionara la estructura de la fórmula (biblioteca[0][1] + 1), cómo es el caso que sucede en las tuplas. De éste modo pasa a ser una función numérica, clasificada dentro de Int = Integer\n",
    "biblioteca = [(\"El mal de Corcira\",4),(\"Un mundo feliz\", 2),(\"Lolita\", 5),\\\n",
    "              (\"Crimen y castigo\",2),(\"Python from for to pro\", 0),(\"El señor de los anillos\", 6),\\\n",
    "              (\"Cien años de soledad\", 5),(\"Harry Potter\", 9),(\"Lectura Fácil\", 4),(\"Seda\", 2),\\\n",
    "              (\"La chica de nieve\", 6),(\"El día que se perdió la cordura\", 3), (\"Data Science\", 0)]\n",
    "x = \"biblioteca[0][1]\"\n",
    "print(x)\n",
    "print(type(x))\n",
    "biblioteca[0][1] + (1)\n",
    "\n",
    "\n"
   ]
  },
  {
   "cell_type": "markdown",
   "metadata": {},
   "source": [
    "Convierte la tupla en una lista para poder modificar el segundo elemento y añadir esta unidad. Asigna la tupla convertida a lista a la variable **tup_to_list** haz los cambios, agrega la unidad y vuelve a añadir la lista ya convertida en tupla a la lista **biblioteca**."
   ]
  },
  {
   "cell_type": "code",
   "execution_count": 188,
   "metadata": {
    "tags": []
   },
   "outputs": [
    {
     "output_type": "stream",
     "name": "stdout",
     "text": "5\n[('El mal de Corcira', 4), ('Un mundo feliz', 2), ('Lolita', 5), ('Crimen y castigo', 2), ('Python from for to pro', 0), ('El señor de los anillos', 6), ('Cien años de soledad', 5), ('Harry Potter', 9), ('Lectura Fácil', 4), ('Seda', 2), ('La chica de nieve', 6), ('El día que se perdió la cordura', 3), ('Data Science', 0), 5]\n"
    }
   ],
   "source": [
    "#your code here\n",
    "#la consigna me resultó algo confusa\n",
    "\n",
    "biblioteca = [(\"El mal de Corcira\",4),(\"Un mundo feliz\", 2),(\"Lolita\", 5),\\\n",
    "              (\"Crimen y castigo\",2),(\"Python from for to pro\", 0),(\"El señor de los anillos\", 6),\\\n",
    "              (\"Cien años de soledad\", 5),(\"Harry Potter\", 9),(\"Lectura Fácil\", 4),(\"Seda\", 2),\\\n",
    "              (\"La chica de nieve\", 6),(\"El día que se perdió la cordura\", 3), (\"Data Science\", 0)]\n",
    "x = biblioteca[0][1]            \n",
    "tup_to_list = int(x) + int(1)\n",
    "print(tup_to_list)\n",
    "list_to_tup = (5)\n",
    "biblioteca.append(list_to_tup)\n",
    "print(biblioteca)\n",
    "\n",
    "\n",
    "#no supe como agregar nuevamente la modificación de unidades a continuación del libro \"El mal de Corcira\"\n",
    "\n",
    "\n",
    "\n",
    "\n",
    "\n",
    "\n"
   ]
  },
  {
   "cell_type": "markdown",
   "metadata": {},
   "source": [
    "Ahora, tenemos dos tuplas con el libro *El mal de Corcira*, pero esto no es lo que queremos. Elimina el primer elemento de la lista **biblioteca**.\n",
    "\n",
    "Hint: https://www.programiz.com/python-programming/methods/list/remove"
   ]
  },
  {
   "cell_type": "code",
   "execution_count": 153,
   "metadata": {},
   "outputs": [],
   "source": [
    "#your code here\n",
    "\n",
    "\n"
   ]
  },
  {
   "cell_type": "markdown",
   "metadata": {},
   "source": [
    "7. Te han pedido que localices los títulos de los libros de los que no disponen de unidades. Es decir, su segundo elemento, es igual a 0. "
   ]
  },
  {
   "cell_type": "code",
   "execution_count": 248,
   "metadata": {
    "tags": []
   },
   "outputs": [
    {
     "output_type": "stream",
     "name": "stdout",
     "text": "[('El mal de Corcira', 4), ('Un mundo feliz', 2), ('Lolita', 5), ('Crimen y castigo', 2), ('Python fromfor to pro', 0), ('El señor de los anillos', 6), ('Cien años de soledad', 5), ('Harry Potter', 9), ('Lectura Fácil', 4), ('Seda', 2), ('La chica de nieve', 6), ('El día que se perdió la cordura', 3), ('Data Science', 0), ('Balada de pájaros cantores y serpientes', 10)]\nPython fromfor to pro\nData Science\n"
    }
   ],
   "source": [
    "biblioteca = [(\"El mal de Corcira\",4),(\"Un mundo feliz\", 2),(\"Lolita\", 5),(\"Crimen y castigo\",2),(\"Python fromfor to pro\", 0),(\"El señor de los anillos\", 6),(\"Cien años de soledad\", 5),(\"Harry Potter\", 9),(\"Lectura Fácil\", 4),(\"Seda\", 2),(\"La chica de nieve\", 6),(\"El día que se perdió la cordura\", 3), (\"Data Science\", 0),(\"Balada de pájaros cantores y serpientes\", 10)]\n",
    "\n",
    "print(biblioteca)\n",
    "\n",
    "print(biblioteca[4][0])\n",
    "print(biblioteca[12][0])\n",
    "\n",
    "\n",
    "#reconozco que si bien se obtuvo el resultado de ambos que contenían 0 unidades, ésta no podría ser la manera mas profesional y óptima de hacerlo porque en una lista de 500 libros sería imposible especificarlo,o tedioso\n",
    "\n",
    "   \n",
    "    \n",
    "\n",
    "  \n",
    "\n"
   ]
  },
  {
   "cell_type": "markdown",
   "metadata": {},
   "source": [
    "Bonus: ¿Cómo meterías estos dos elementos en una lista llamada **missing**?"
   ]
  },
  {
   "cell_type": "code",
   "execution_count": 280,
   "metadata": {
    "tags": []
   },
   "outputs": [
    {
     "output_type": "stream",
     "name": "stdout",
     "text": "['Data Science', 'Python from for to pro']\n['Data Science', 'Python from for to pro']\n<class 'list'>\n"
    },
    {
     "output_type": "error",
     "ename": "ValueError",
     "evalue": "list.remove(x): x not in list",
     "traceback": [
      "\u001b[0;31m---------------------------------------------------------------------------\u001b[0m",
      "\u001b[0;31mValueError\u001b[0m                                Traceback (most recent call last)",
      "\u001b[0;32m<ipython-input-280-6448d5c760f8>\u001b[0m in \u001b[0;36m<module>\u001b[0;34m\u001b[0m\n\u001b[1;32m      5\u001b[0m \u001b[0mprint\u001b[0m\u001b[0;34m(\u001b[0m\u001b[0mmissing\u001b[0m\u001b[0;34m)\u001b[0m\u001b[0;34m\u001b[0m\u001b[0;34m\u001b[0m\u001b[0m\n\u001b[1;32m      6\u001b[0m \u001b[0mprint\u001b[0m\u001b[0;34m(\u001b[0m\u001b[0mtype\u001b[0m\u001b[0;34m(\u001b[0m\u001b[0mmissing\u001b[0m\u001b[0;34m)\u001b[0m\u001b[0;34m)\u001b[0m\u001b[0;34m\u001b[0m\u001b[0;34m\u001b[0m\u001b[0m\n\u001b[0;32m----> 7\u001b[0;31m \u001b[0mbiblioteca\u001b[0m\u001b[0;34m.\u001b[0m\u001b[0mremove\u001b[0m\u001b[0;34m(\u001b[0m\u001b[0mmissing\u001b[0m\u001b[0;34m)\u001b[0m\u001b[0;34m\u001b[0m\u001b[0;34m\u001b[0m\u001b[0m\n\u001b[0m",
      "\u001b[0;31mValueError\u001b[0m: list.remove(x): x not in list"
     ]
    }
   ],
   "source": [
    "y = [\"Python from for to pro\"]\n",
    "x = [\"Data Science\"]\n",
    "print(x + y)\n",
    "missing = (x + y)\n",
    "print(missing)\n",
    "print(type(missing))\n",
    "biblioteca.remove(missing)"
   ]
  },
  {
   "cell_type": "code",
   "execution_count": null,
   "metadata": {},
   "outputs": [],
   "source": []
  }
 ],
 "metadata": {
  "kernelspec": {
   "display_name": "Python 3",
   "language": "python",
   "name": "python3"
  },
  "language_info": {
   "codemirror_mode": {
    "name": "ipython",
    "version": 3
   },
   "file_extension": ".py",
   "mimetype": "text/x-python",
   "name": "python",
   "nbconvert_exporter": "python",
   "pygments_lexer": "ipython3",
   "version": "3.7.6-final"
  }
 },
 "nbformat": 4,
 "nbformat_minor": 4
}