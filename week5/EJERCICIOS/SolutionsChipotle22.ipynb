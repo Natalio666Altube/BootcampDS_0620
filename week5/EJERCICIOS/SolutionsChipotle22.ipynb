{
 "cells": [
  {
   "cell_type": "markdown",
   "metadata": {},
   "source": [
    "# Ex1 - Filtering and Sorting Data"
   ]
  },
  {
   "cell_type": "markdown",
   "metadata": {},
   "source": [
    "This time we are going to pull data directly from the internet.\n",
    "Special thanks to: https://github.com/justmarkham for sharing the dataset and materials.\n",
    "\n",
    "### Step 1. Import the necessary libraries"
   ]
  },
  {
   "cell_type": "code",
   "execution_count": 1,
   "metadata": {
    "collapsed": false
   },
   "outputs": [],
   "source": [
    "import pandas as pd \n",
    "import numpy as np\n"
   ]
  },
  {
   "cell_type": "markdown",
   "metadata": {},
   "source": [
    "### Step 2. Import the dataset from this [address](https://raw.githubusercontent.com/justmarkham/DAT8/master/data/chipotle.tsv). "
   ]
  },
  {
   "cell_type": "code",
   "execution_count": null,
   "metadata": {},
   "outputs": [],
   "source": [
    "adress = 'https://github.com/justmarkham'"
   ]
  },
  {
   "cell_type": "markdown",
   "metadata": {},
   "source": [
    "### Step 3. Assign it to a variable called chipo."
   ]
  },
  {
   "cell_type": "code",
   "execution_count": 3,
   "metadata": {
    "collapsed": false
   },
   "outputs": [
    {
     "output_type": "execute_result",
     "data": {
      "text/plain": "      order_id  quantity                              item_name  \\\n0            1         1           Chips and Fresh Tomato Salsa   \n1            1         1                                   Izze   \n2            1         1                       Nantucket Nectar   \n3            1         1  Chips and Tomatillo-Green Chili Salsa   \n4            2         2                           Chicken Bowl   \n...        ...       ...                                    ...   \n4617      1833         1                          Steak Burrito   \n4618      1833         1                          Steak Burrito   \n4619      1834         1                     Chicken Salad Bowl   \n4620      1834         1                     Chicken Salad Bowl   \n4621      1834         1                     Chicken Salad Bowl   \n\n                                     choice_description item_price  \n0                                                   NaN     $2.39   \n1                                          [Clementine]     $3.39   \n2                                               [Apple]     $3.39   \n3                                                   NaN     $2.39   \n4     [Tomatillo-Red Chili Salsa (Hot), [Black Beans...    $16.98   \n...                                                 ...        ...  \n4617  [Fresh Tomato Salsa, [Rice, Black Beans, Sour ...    $11.75   \n4618  [Fresh Tomato Salsa, [Rice, Sour Cream, Cheese...    $11.75   \n4619  [Fresh Tomato Salsa, [Fajita Vegetables, Pinto...    $11.25   \n4620  [Fresh Tomato Salsa, [Fajita Vegetables, Lettu...     $8.75   \n4621  [Fresh Tomato Salsa, [Fajita Vegetables, Pinto...     $8.75   \n\n[4622 rows x 5 columns]",
      "text/html": "<div>\n<style scoped>\n    .dataframe tbody tr th:only-of-type {\n        vertical-align: middle;\n    }\n\n    .dataframe tbody tr th {\n        vertical-align: top;\n    }\n\n    .dataframe thead th {\n        text-align: right;\n    }\n</style>\n<table border=\"1\" class=\"dataframe\">\n  <thead>\n    <tr style=\"text-align: right;\">\n      <th></th>\n      <th>order_id</th>\n      <th>quantity</th>\n      <th>item_name</th>\n      <th>choice_description</th>\n      <th>item_price</th>\n    </tr>\n  </thead>\n  <tbody>\n    <tr>\n      <th>0</th>\n      <td>1</td>\n      <td>1</td>\n      <td>Chips and Fresh Tomato Salsa</td>\n      <td>NaN</td>\n      <td>$2.39</td>\n    </tr>\n    <tr>\n      <th>1</th>\n      <td>1</td>\n      <td>1</td>\n      <td>Izze</td>\n      <td>[Clementine]</td>\n      <td>$3.39</td>\n    </tr>\n    <tr>\n      <th>2</th>\n      <td>1</td>\n      <td>1</td>\n      <td>Nantucket Nectar</td>\n      <td>[Apple]</td>\n      <td>$3.39</td>\n    </tr>\n    <tr>\n      <th>3</th>\n      <td>1</td>\n      <td>1</td>\n      <td>Chips and Tomatillo-Green Chili Salsa</td>\n      <td>NaN</td>\n      <td>$2.39</td>\n    </tr>\n    <tr>\n      <th>4</th>\n      <td>2</td>\n      <td>2</td>\n      <td>Chicken Bowl</td>\n      <td>[Tomatillo-Red Chili Salsa (Hot), [Black Beans...</td>\n      <td>$16.98</td>\n    </tr>\n    <tr>\n      <th>...</th>\n      <td>...</td>\n      <td>...</td>\n      <td>...</td>\n      <td>...</td>\n      <td>...</td>\n    </tr>\n    <tr>\n      <th>4617</th>\n      <td>1833</td>\n      <td>1</td>\n      <td>Steak Burrito</td>\n      <td>[Fresh Tomato Salsa, [Rice, Black Beans, Sour ...</td>\n      <td>$11.75</td>\n    </tr>\n    <tr>\n      <th>4618</th>\n      <td>1833</td>\n      <td>1</td>\n      <td>Steak Burrito</td>\n      <td>[Fresh Tomato Salsa, [Rice, Sour Cream, Cheese...</td>\n      <td>$11.75</td>\n    </tr>\n    <tr>\n      <th>4619</th>\n      <td>1834</td>\n      <td>1</td>\n      <td>Chicken Salad Bowl</td>\n      <td>[Fresh Tomato Salsa, [Fajita Vegetables, Pinto...</td>\n      <td>$11.25</td>\n    </tr>\n    <tr>\n      <th>4620</th>\n      <td>1834</td>\n      <td>1</td>\n      <td>Chicken Salad Bowl</td>\n      <td>[Fresh Tomato Salsa, [Fajita Vegetables, Lettu...</td>\n      <td>$8.75</td>\n    </tr>\n    <tr>\n      <th>4621</th>\n      <td>1834</td>\n      <td>1</td>\n      <td>Chicken Salad Bowl</td>\n      <td>[Fresh Tomato Salsa, [Fajita Vegetables, Pinto...</td>\n      <td>$8.75</td>\n    </tr>\n  </tbody>\n</table>\n<p>4622 rows × 5 columns</p>\n</div>"
     },
     "metadata": {},
     "execution_count": 3
    }
   ],
   "source": [
    "chipo = pd.read_csv('https://raw.githubusercontent.com/justmarkham/DAT8/master/data/chipotle.tsv', sep=\"\\t\")\n",
    "chipo"
   ]
  },
  {
   "cell_type": "markdown",
   "metadata": {},
   "source": [
    "### Step 4. What is the name of the max valued product?"
   ]
  },
  {
   "cell_type": "code",
   "execution_count": 6,
   "metadata": {},
   "outputs": [
    {
     "output_type": "execute_result",
     "data": {
      "text/plain": "44.25"
     },
     "metadata": {},
     "execution_count": 6
    }
   ],
   "source": [
    "max(chipo.item_price)"
   ]
  },
  {
   "cell_type": "code",
   "execution_count": 5,
   "metadata": {},
   "outputs": [
    {
     "output_type": "execute_result",
     "data": {
      "text/plain": "      order_id  quantity                              item_name  \\\n0            1         1           Chips and Fresh Tomato Salsa   \n1            1         1                                   Izze   \n2            1         1                       Nantucket Nectar   \n3            1         1  Chips and Tomatillo-Green Chili Salsa   \n4            2         2                           Chicken Bowl   \n...        ...       ...                                    ...   \n4617      1833         1                          Steak Burrito   \n4618      1833         1                          Steak Burrito   \n4619      1834         1                     Chicken Salad Bowl   \n4620      1834         1                     Chicken Salad Bowl   \n4621      1834         1                     Chicken Salad Bowl   \n\n                                     choice_description  item_price  \n0                                                   NaN        2.39  \n1                                          [Clementine]        3.39  \n2                                               [Apple]        3.39  \n3                                                   NaN        2.39  \n4     [Tomatillo-Red Chili Salsa (Hot), [Black Beans...       16.98  \n...                                                 ...         ...  \n4617  [Fresh Tomato Salsa, [Rice, Black Beans, Sour ...       11.75  \n4618  [Fresh Tomato Salsa, [Rice, Sour Cream, Cheese...       11.75  \n4619  [Fresh Tomato Salsa, [Fajita Vegetables, Pinto...       11.25  \n4620  [Fresh Tomato Salsa, [Fajita Vegetables, Lettu...        8.75  \n4621  [Fresh Tomato Salsa, [Fajita Vegetables, Pinto...        8.75  \n\n[4622 rows x 5 columns]",
      "text/html": "<div>\n<style scoped>\n    .dataframe tbody tr th:only-of-type {\n        vertical-align: middle;\n    }\n\n    .dataframe tbody tr th {\n        vertical-align: top;\n    }\n\n    .dataframe thead th {\n        text-align: right;\n    }\n</style>\n<table border=\"1\" class=\"dataframe\">\n  <thead>\n    <tr style=\"text-align: right;\">\n      <th></th>\n      <th>order_id</th>\n      <th>quantity</th>\n      <th>item_name</th>\n      <th>choice_description</th>\n      <th>item_price</th>\n    </tr>\n  </thead>\n  <tbody>\n    <tr>\n      <th>0</th>\n      <td>1</td>\n      <td>1</td>\n      <td>Chips and Fresh Tomato Salsa</td>\n      <td>NaN</td>\n      <td>2.39</td>\n    </tr>\n    <tr>\n      <th>1</th>\n      <td>1</td>\n      <td>1</td>\n      <td>Izze</td>\n      <td>[Clementine]</td>\n      <td>3.39</td>\n    </tr>\n    <tr>\n      <th>2</th>\n      <td>1</td>\n      <td>1</td>\n      <td>Nantucket Nectar</td>\n      <td>[Apple]</td>\n      <td>3.39</td>\n    </tr>\n    <tr>\n      <th>3</th>\n      <td>1</td>\n      <td>1</td>\n      <td>Chips and Tomatillo-Green Chili Salsa</td>\n      <td>NaN</td>\n      <td>2.39</td>\n    </tr>\n    <tr>\n      <th>4</th>\n      <td>2</td>\n      <td>2</td>\n      <td>Chicken Bowl</td>\n      <td>[Tomatillo-Red Chili Salsa (Hot), [Black Beans...</td>\n      <td>16.98</td>\n    </tr>\n    <tr>\n      <th>...</th>\n      <td>...</td>\n      <td>...</td>\n      <td>...</td>\n      <td>...</td>\n      <td>...</td>\n    </tr>\n    <tr>\n      <th>4617</th>\n      <td>1833</td>\n      <td>1</td>\n      <td>Steak Burrito</td>\n      <td>[Fresh Tomato Salsa, [Rice, Black Beans, Sour ...</td>\n      <td>11.75</td>\n    </tr>\n    <tr>\n      <th>4618</th>\n      <td>1833</td>\n      <td>1</td>\n      <td>Steak Burrito</td>\n      <td>[Fresh Tomato Salsa, [Rice, Sour Cream, Cheese...</td>\n      <td>11.75</td>\n    </tr>\n    <tr>\n      <th>4619</th>\n      <td>1834</td>\n      <td>1</td>\n      <td>Chicken Salad Bowl</td>\n      <td>[Fresh Tomato Salsa, [Fajita Vegetables, Pinto...</td>\n      <td>11.25</td>\n    </tr>\n    <tr>\n      <th>4620</th>\n      <td>1834</td>\n      <td>1</td>\n      <td>Chicken Salad Bowl</td>\n      <td>[Fresh Tomato Salsa, [Fajita Vegetables, Lettu...</td>\n      <td>8.75</td>\n    </tr>\n    <tr>\n      <th>4621</th>\n      <td>1834</td>\n      <td>1</td>\n      <td>Chicken Salad Bowl</td>\n      <td>[Fresh Tomato Salsa, [Fajita Vegetables, Pinto...</td>\n      <td>8.75</td>\n    </tr>\n  </tbody>\n</table>\n<p>4622 rows × 5 columns</p>\n</div>"
     },
     "metadata": {},
     "execution_count": 5
    }
   ],
   "source": [
    "chipo.item_price = chipo.item_price.str[1:].astype(float)\n",
    "chipo\n"
   ]
  },
  {
   "cell_type": "markdown",
   "metadata": {},
   "source": [
    "### Step 5. What is the price of each item? \n",
    "###### print a data frame with only two columns item_name and item_price"
   ]
  },
  {
   "cell_type": "code",
   "execution_count": 10,
   "metadata": {},
   "outputs": [
    {
     "output_type": "execute_result",
     "data": {
      "text/plain": "      order_id  quantity                              item_name  \\\n0            1         1           Chips and Fresh Tomato Salsa   \n1            1         1                                   Izze   \n2            1         1                       Nantucket Nectar   \n3            1         1  Chips and Tomatillo-Green Chili Salsa   \n4            2         2                           Chicken Bowl   \n...        ...       ...                                    ...   \n3890      1559         2                  Carnitas Crispy Tacos   \n3973      1592         4                      Canned Soft Drink   \n4152      1660        10                          Bottled Water   \n4354      1738         2                       Steak Soft Tacos   \n4489      1786         4                    Chips and Guacamole   \n\n                                     choice_description  item_price  \n0                                                   NaN        2.39  \n1                                          [Clementine]        3.39  \n2                                               [Apple]        3.39  \n3                                                   NaN        2.39  \n4     [Tomatillo-Red Chili Salsa (Hot), [Black Beans...       16.98  \n...                                                 ...         ...  \n3890     [Fresh Tomato Salsa (Mild), [Cheese, Lettuce]]       17.98  \n3973                                             [Coke]        5.00  \n4152                                                NaN       15.00  \n4354            [Fresh Tomato Salsa, [Cheese, Lettuce]]       18.50  \n4489                                                NaN       17.80  \n\n[103 rows x 5 columns]",
      "text/html": "<div>\n<style scoped>\n    .dataframe tbody tr th:only-of-type {\n        vertical-align: middle;\n    }\n\n    .dataframe tbody tr th {\n        vertical-align: top;\n    }\n\n    .dataframe thead th {\n        text-align: right;\n    }\n</style>\n<table border=\"1\" class=\"dataframe\">\n  <thead>\n    <tr style=\"text-align: right;\">\n      <th></th>\n      <th>order_id</th>\n      <th>quantity</th>\n      <th>item_name</th>\n      <th>choice_description</th>\n      <th>item_price</th>\n    </tr>\n  </thead>\n  <tbody>\n    <tr>\n      <th>0</th>\n      <td>1</td>\n      <td>1</td>\n      <td>Chips and Fresh Tomato Salsa</td>\n      <td>NaN</td>\n      <td>2.39</td>\n    </tr>\n    <tr>\n      <th>1</th>\n      <td>1</td>\n      <td>1</td>\n      <td>Izze</td>\n      <td>[Clementine]</td>\n      <td>3.39</td>\n    </tr>\n    <tr>\n      <th>2</th>\n      <td>1</td>\n      <td>1</td>\n      <td>Nantucket Nectar</td>\n      <td>[Apple]</td>\n      <td>3.39</td>\n    </tr>\n    <tr>\n      <th>3</th>\n      <td>1</td>\n      <td>1</td>\n      <td>Chips and Tomatillo-Green Chili Salsa</td>\n      <td>NaN</td>\n      <td>2.39</td>\n    </tr>\n    <tr>\n      <th>4</th>\n      <td>2</td>\n      <td>2</td>\n      <td>Chicken Bowl</td>\n      <td>[Tomatillo-Red Chili Salsa (Hot), [Black Beans...</td>\n      <td>16.98</td>\n    </tr>\n    <tr>\n      <th>...</th>\n      <td>...</td>\n      <td>...</td>\n      <td>...</td>\n      <td>...</td>\n      <td>...</td>\n    </tr>\n    <tr>\n      <th>3890</th>\n      <td>1559</td>\n      <td>2</td>\n      <td>Carnitas Crispy Tacos</td>\n      <td>[Fresh Tomato Salsa (Mild), [Cheese, Lettuce]]</td>\n      <td>17.98</td>\n    </tr>\n    <tr>\n      <th>3973</th>\n      <td>1592</td>\n      <td>4</td>\n      <td>Canned Soft Drink</td>\n      <td>[Coke]</td>\n      <td>5.00</td>\n    </tr>\n    <tr>\n      <th>4152</th>\n      <td>1660</td>\n      <td>10</td>\n      <td>Bottled Water</td>\n      <td>NaN</td>\n      <td>15.00</td>\n    </tr>\n    <tr>\n      <th>4354</th>\n      <td>1738</td>\n      <td>2</td>\n      <td>Steak Soft Tacos</td>\n      <td>[Fresh Tomato Salsa, [Cheese, Lettuce]]</td>\n      <td>18.50</td>\n    </tr>\n    <tr>\n      <th>4489</th>\n      <td>1786</td>\n      <td>4</td>\n      <td>Chips and Guacamole</td>\n      <td>NaN</td>\n      <td>17.80</td>\n    </tr>\n  </tbody>\n</table>\n<p>103 rows × 5 columns</p>\n</div>"
     },
     "metadata": {},
     "execution_count": 10
    }
   ],
   "source": [
    "chipo_filtered = chipo.drop_duplicates(['item_name','quantity'])\n",
    "chipo_filtered\n",
    "\n",
    "# delete the duplicates in item_name and quantity\n"
   ]
  },
  {
   "cell_type": "code",
   "execution_count": 12,
   "metadata": {},
   "outputs": [
    {
     "output_type": "execute_result",
     "data": {
      "text/plain": "      order_id  quantity                              item_name  \\\n0            1         1           Chips and Fresh Tomato Salsa   \n1            1         1                                   Izze   \n2            1         1                       Nantucket Nectar   \n3            1         1  Chips and Tomatillo-Green Chili Salsa   \n5            3         1                           Chicken Bowl   \n6            3         1                          Side of Chips   \n7            4         1                          Steak Burrito   \n8            4         1                       Steak Soft Tacos   \n10           5         1                    Chips and Guacamole   \n11           6         1                   Chicken Crispy Tacos   \n12           6         1                     Chicken Soft Tacos   \n16           8         1                        Chicken Burrito   \n21          11         1                       Barbacoa Burrito   \n27          14         1                       Carnitas Burrito   \n28          14         1                            Canned Soda   \n33          17         1                          Carnitas Bowl   \n34          17         1                          Bottled Water   \n38          18         1  Chips and Tomatillo Green Chili Salsa   \n39          19         1                          Barbacoa Bowl   \n40          19         1                                  Chips   \n44          20         1                     Chicken Salad Bowl   \n54          25         1                             Steak Bowl   \n56          26         1                    Barbacoa Soft Tacos   \n57          26         1                         Veggie Burrito   \n62          28         1                            Veggie Bowl   \n92          40         1                     Steak Crispy Tacos   \n111         49         1    Chips and Tomatillo Red Chili Salsa   \n168         75         1                  Barbacoa Crispy Tacos   \n186         83         1                      Veggie Salad Bowl   \n191         85         1     Chips and Roasted Chili-Corn Salsa   \n233        102         1     Chips and Roasted Chili Corn Salsa   \n237        103         1                    Carnitas Soft Tacos   \n250        109         1                          Chicken Salad   \n263        114         1                      Canned Soft Drink   \n298        129         1                      6 Pack Soft Drink   \n300        130         1    Chips and Tomatillo-Red Chili Salsa   \n510        214         1                                Burrito   \n520        217         1                           Crispy Tacos   \n554        230         1                  Carnitas Crispy Tacos   \n606        250         1                       Steak Salad Bowl   \n664        276         1                            Steak Salad   \n673        279         1                                   Bowl   \n674        279         1      Chips and Mild Fresh Tomato Salsa   \n738        304         1                      Veggie Soft Tacos   \n1132       468         1                    Carnitas Salad Bowl   \n1229       501         1                    Barbacoa Salad Bowl   \n1414       575         1                                  Salad   \n1653       668         1                    Veggie Crispy Tacos   \n1694       686         1                           Veggie Salad   \n3750      1500         1                         Carnitas Salad   \n\n                                     choice_description  item_price  \n0                                                   NaN        2.39  \n1                                          [Clementine]        3.39  \n2                                               [Apple]        3.39  \n3                                                   NaN        2.39  \n5     [Fresh Tomato Salsa (Mild), [Rice, Cheese, Sou...       10.98  \n6                                                   NaN        1.69  \n7     [Tomatillo Red Chili Salsa, [Fajita Vegetables...       11.75  \n8     [Tomatillo Green Chili Salsa, [Pinto Beans, Ch...        9.25  \n10                                                  NaN        4.45  \n11    [Roasted Chili Corn Salsa, [Fajita Vegetables,...        8.75  \n12    [Roasted Chili Corn Salsa, [Rice, Black Beans,...        8.75  \n16    [Tomatillo-Green Chili Salsa (Medium), [Pinto ...        8.49  \n21    [[Fresh Tomato Salsa (Mild), Tomatillo-Green C...        8.99  \n27    [[Tomatillo-Green Chili Salsa (Medium), Roaste...        8.99  \n28                                         [Dr. Pepper]        1.09  \n33    [Tomatillo-Red Chili Salsa (Hot), [Black Beans...        8.99  \n34                                                  NaN        1.09  \n38                                                  NaN        2.95  \n39    [Roasted Chili Corn Salsa, [Fajita Vegetables,...       11.75  \n40                                                  NaN        2.15  \n44    [Fresh Tomato Salsa, [Fajita Vegetables, Pinto...        8.75  \n54    [Fresh Tomato Salsa (Mild), [Black Beans, Rice...        8.99  \n56    [Fresh Tomato Salsa, [Fajita Vegetables, Black...        9.25  \n57    [Tomatillo Red Chili Salsa, [Fajita Vegetables...       11.25  \n62    [Fresh Tomato Salsa, [Fajita Vegetables, Rice,...       11.25  \n92                     [Fresh Tomato Salsa, Sour Cream]        9.25  \n111                                                 NaN        2.95  \n168   [Tomatillo Red Chili Salsa, [Rice, Black Beans...       11.75  \n186   [Fresh Tomato Salsa, [Fajita Vegetables, Rice,...       11.25  \n191                                                 NaN        2.39  \n233                                                 NaN        2.95  \n237   [Tomatillo Green Chili Salsa, [Fajita Vegetabl...        9.25  \n250   [Roasted Chili Corn Salsa (Medium), [Black Bea...       10.98  \n263                                              [Coke]        1.25  \n298                                            [Sprite]        6.49  \n300                                                 NaN        2.39  \n510   [Adobo-Marinated and Grilled Chicken, Pinto Be...        7.40  \n520                 [Adobo-Marinated and Grilled Steak]        7.40  \n554                          [Roasted Chili Corn Salsa]        9.25  \n606   [Fresh Tomato Salsa, [Pinto Beans, Cheese, Gua...       11.89  \n664   [Tomatillo-Red Chili Salsa (Hot), [Black Beans...        8.99  \n673   [Adobo-Marinated and Grilled Steak, [Sour Crea...        7.40  \n674                                                 NaN        3.00  \n738   [Tomatillo Red Chili Salsa, [Fajita Vegetables...       11.25  \n1132  [Fresh Tomato Salsa, [Rice, Black Beans, Chees...       11.89  \n1229  [Fresh Tomato Salsa, [Rice, Fajita Vegetables,...       11.89  \n1414  [Brown Rice, Adobo-Marinated and Grilled Chick...        7.40  \n1653  [Fresh Tomato Salsa (Mild), [Pinto Beans, Rice...        8.49  \n1694  [[Fresh Tomato Salsa (Mild), Roasted Chili Cor...        8.49  \n3750  [[Fresh Tomato Salsa (Mild), Roasted Chili Cor...        8.99  ",
      "text/html": "<div>\n<style scoped>\n    .dataframe tbody tr th:only-of-type {\n        vertical-align: middle;\n    }\n\n    .dataframe tbody tr th {\n        vertical-align: top;\n    }\n\n    .dataframe thead th {\n        text-align: right;\n    }\n</style>\n<table border=\"1\" class=\"dataframe\">\n  <thead>\n    <tr style=\"text-align: right;\">\n      <th></th>\n      <th>order_id</th>\n      <th>quantity</th>\n      <th>item_name</th>\n      <th>choice_description</th>\n      <th>item_price</th>\n    </tr>\n  </thead>\n  <tbody>\n    <tr>\n      <th>0</th>\n      <td>1</td>\n      <td>1</td>\n      <td>Chips and Fresh Tomato Salsa</td>\n      <td>NaN</td>\n      <td>2.39</td>\n    </tr>\n    <tr>\n      <th>1</th>\n      <td>1</td>\n      <td>1</td>\n      <td>Izze</td>\n      <td>[Clementine]</td>\n      <td>3.39</td>\n    </tr>\n    <tr>\n      <th>2</th>\n      <td>1</td>\n      <td>1</td>\n      <td>Nantucket Nectar</td>\n      <td>[Apple]</td>\n      <td>3.39</td>\n    </tr>\n    <tr>\n      <th>3</th>\n      <td>1</td>\n      <td>1</td>\n      <td>Chips and Tomatillo-Green Chili Salsa</td>\n      <td>NaN</td>\n      <td>2.39</td>\n    </tr>\n    <tr>\n      <th>5</th>\n      <td>3</td>\n      <td>1</td>\n      <td>Chicken Bowl</td>\n      <td>[Fresh Tomato Salsa (Mild), [Rice, Cheese, Sou...</td>\n      <td>10.98</td>\n    </tr>\n    <tr>\n      <th>6</th>\n      <td>3</td>\n      <td>1</td>\n      <td>Side of Chips</td>\n      <td>NaN</td>\n      <td>1.69</td>\n    </tr>\n    <tr>\n      <th>7</th>\n      <td>4</td>\n      <td>1</td>\n      <td>Steak Burrito</td>\n      <td>[Tomatillo Red Chili Salsa, [Fajita Vegetables...</td>\n      <td>11.75</td>\n    </tr>\n    <tr>\n      <th>8</th>\n      <td>4</td>\n      <td>1</td>\n      <td>Steak Soft Tacos</td>\n      <td>[Tomatillo Green Chili Salsa, [Pinto Beans, Ch...</td>\n      <td>9.25</td>\n    </tr>\n    <tr>\n      <th>10</th>\n      <td>5</td>\n      <td>1</td>\n      <td>Chips and Guacamole</td>\n      <td>NaN</td>\n      <td>4.45</td>\n    </tr>\n    <tr>\n      <th>11</th>\n      <td>6</td>\n      <td>1</td>\n      <td>Chicken Crispy Tacos</td>\n      <td>[Roasted Chili Corn Salsa, [Fajita Vegetables,...</td>\n      <td>8.75</td>\n    </tr>\n    <tr>\n      <th>12</th>\n      <td>6</td>\n      <td>1</td>\n      <td>Chicken Soft Tacos</td>\n      <td>[Roasted Chili Corn Salsa, [Rice, Black Beans,...</td>\n      <td>8.75</td>\n    </tr>\n    <tr>\n      <th>16</th>\n      <td>8</td>\n      <td>1</td>\n      <td>Chicken Burrito</td>\n      <td>[Tomatillo-Green Chili Salsa (Medium), [Pinto ...</td>\n      <td>8.49</td>\n    </tr>\n    <tr>\n      <th>21</th>\n      <td>11</td>\n      <td>1</td>\n      <td>Barbacoa Burrito</td>\n      <td>[[Fresh Tomato Salsa (Mild), Tomatillo-Green C...</td>\n      <td>8.99</td>\n    </tr>\n    <tr>\n      <th>27</th>\n      <td>14</td>\n      <td>1</td>\n      <td>Carnitas Burrito</td>\n      <td>[[Tomatillo-Green Chili Salsa (Medium), Roaste...</td>\n      <td>8.99</td>\n    </tr>\n    <tr>\n      <th>28</th>\n      <td>14</td>\n      <td>1</td>\n      <td>Canned Soda</td>\n      <td>[Dr. Pepper]</td>\n      <td>1.09</td>\n    </tr>\n    <tr>\n      <th>33</th>\n      <td>17</td>\n      <td>1</td>\n      <td>Carnitas Bowl</td>\n      <td>[Tomatillo-Red Chili Salsa (Hot), [Black Beans...</td>\n      <td>8.99</td>\n    </tr>\n    <tr>\n      <th>34</th>\n      <td>17</td>\n      <td>1</td>\n      <td>Bottled Water</td>\n      <td>NaN</td>\n      <td>1.09</td>\n    </tr>\n    <tr>\n      <th>38</th>\n      <td>18</td>\n      <td>1</td>\n      <td>Chips and Tomatillo Green Chili Salsa</td>\n      <td>NaN</td>\n      <td>2.95</td>\n    </tr>\n    <tr>\n      <th>39</th>\n      <td>19</td>\n      <td>1</td>\n      <td>Barbacoa Bowl</td>\n      <td>[Roasted Chili Corn Salsa, [Fajita Vegetables,...</td>\n      <td>11.75</td>\n    </tr>\n    <tr>\n      <th>40</th>\n      <td>19</td>\n      <td>1</td>\n      <td>Chips</td>\n      <td>NaN</td>\n      <td>2.15</td>\n    </tr>\n    <tr>\n      <th>44</th>\n      <td>20</td>\n      <td>1</td>\n      <td>Chicken Salad Bowl</td>\n      <td>[Fresh Tomato Salsa, [Fajita Vegetables, Pinto...</td>\n      <td>8.75</td>\n    </tr>\n    <tr>\n      <th>54</th>\n      <td>25</td>\n      <td>1</td>\n      <td>Steak Bowl</td>\n      <td>[Fresh Tomato Salsa (Mild), [Black Beans, Rice...</td>\n      <td>8.99</td>\n    </tr>\n    <tr>\n      <th>56</th>\n      <td>26</td>\n      <td>1</td>\n      <td>Barbacoa Soft Tacos</td>\n      <td>[Fresh Tomato Salsa, [Fajita Vegetables, Black...</td>\n      <td>9.25</td>\n    </tr>\n    <tr>\n      <th>57</th>\n      <td>26</td>\n      <td>1</td>\n      <td>Veggie Burrito</td>\n      <td>[Tomatillo Red Chili Salsa, [Fajita Vegetables...</td>\n      <td>11.25</td>\n    </tr>\n    <tr>\n      <th>62</th>\n      <td>28</td>\n      <td>1</td>\n      <td>Veggie Bowl</td>\n      <td>[Fresh Tomato Salsa, [Fajita Vegetables, Rice,...</td>\n      <td>11.25</td>\n    </tr>\n    <tr>\n      <th>92</th>\n      <td>40</td>\n      <td>1</td>\n      <td>Steak Crispy Tacos</td>\n      <td>[Fresh Tomato Salsa, Sour Cream]</td>\n      <td>9.25</td>\n    </tr>\n    <tr>\n      <th>111</th>\n      <td>49</td>\n      <td>1</td>\n      <td>Chips and Tomatillo Red Chili Salsa</td>\n      <td>NaN</td>\n      <td>2.95</td>\n    </tr>\n    <tr>\n      <th>168</th>\n      <td>75</td>\n      <td>1</td>\n      <td>Barbacoa Crispy Tacos</td>\n      <td>[Tomatillo Red Chili Salsa, [Rice, Black Beans...</td>\n      <td>11.75</td>\n    </tr>\n    <tr>\n      <th>186</th>\n      <td>83</td>\n      <td>1</td>\n      <td>Veggie Salad Bowl</td>\n      <td>[Fresh Tomato Salsa, [Fajita Vegetables, Rice,...</td>\n      <td>11.25</td>\n    </tr>\n    <tr>\n      <th>191</th>\n      <td>85</td>\n      <td>1</td>\n      <td>Chips and Roasted Chili-Corn Salsa</td>\n      <td>NaN</td>\n      <td>2.39</td>\n    </tr>\n    <tr>\n      <th>233</th>\n      <td>102</td>\n      <td>1</td>\n      <td>Chips and Roasted Chili Corn Salsa</td>\n      <td>NaN</td>\n      <td>2.95</td>\n    </tr>\n    <tr>\n      <th>237</th>\n      <td>103</td>\n      <td>1</td>\n      <td>Carnitas Soft Tacos</td>\n      <td>[Tomatillo Green Chili Salsa, [Fajita Vegetabl...</td>\n      <td>9.25</td>\n    </tr>\n    <tr>\n      <th>250</th>\n      <td>109</td>\n      <td>1</td>\n      <td>Chicken Salad</td>\n      <td>[Roasted Chili Corn Salsa (Medium), [Black Bea...</td>\n      <td>10.98</td>\n    </tr>\n    <tr>\n      <th>263</th>\n      <td>114</td>\n      <td>1</td>\n      <td>Canned Soft Drink</td>\n      <td>[Coke]</td>\n      <td>1.25</td>\n    </tr>\n    <tr>\n      <th>298</th>\n      <td>129</td>\n      <td>1</td>\n      <td>6 Pack Soft Drink</td>\n      <td>[Sprite]</td>\n      <td>6.49</td>\n    </tr>\n    <tr>\n      <th>300</th>\n      <td>130</td>\n      <td>1</td>\n      <td>Chips and Tomatillo-Red Chili Salsa</td>\n      <td>NaN</td>\n      <td>2.39</td>\n    </tr>\n    <tr>\n      <th>510</th>\n      <td>214</td>\n      <td>1</td>\n      <td>Burrito</td>\n      <td>[Adobo-Marinated and Grilled Chicken, Pinto Be...</td>\n      <td>7.40</td>\n    </tr>\n    <tr>\n      <th>520</th>\n      <td>217</td>\n      <td>1</td>\n      <td>Crispy Tacos</td>\n      <td>[Adobo-Marinated and Grilled Steak]</td>\n      <td>7.40</td>\n    </tr>\n    <tr>\n      <th>554</th>\n      <td>230</td>\n      <td>1</td>\n      <td>Carnitas Crispy Tacos</td>\n      <td>[Roasted Chili Corn Salsa]</td>\n      <td>9.25</td>\n    </tr>\n    <tr>\n      <th>606</th>\n      <td>250</td>\n      <td>1</td>\n      <td>Steak Salad Bowl</td>\n      <td>[Fresh Tomato Salsa, [Pinto Beans, Cheese, Gua...</td>\n      <td>11.89</td>\n    </tr>\n    <tr>\n      <th>664</th>\n      <td>276</td>\n      <td>1</td>\n      <td>Steak Salad</td>\n      <td>[Tomatillo-Red Chili Salsa (Hot), [Black Beans...</td>\n      <td>8.99</td>\n    </tr>\n    <tr>\n      <th>673</th>\n      <td>279</td>\n      <td>1</td>\n      <td>Bowl</td>\n      <td>[Adobo-Marinated and Grilled Steak, [Sour Crea...</td>\n      <td>7.40</td>\n    </tr>\n    <tr>\n      <th>674</th>\n      <td>279</td>\n      <td>1</td>\n      <td>Chips and Mild Fresh Tomato Salsa</td>\n      <td>NaN</td>\n      <td>3.00</td>\n    </tr>\n    <tr>\n      <th>738</th>\n      <td>304</td>\n      <td>1</td>\n      <td>Veggie Soft Tacos</td>\n      <td>[Tomatillo Red Chili Salsa, [Fajita Vegetables...</td>\n      <td>11.25</td>\n    </tr>\n    <tr>\n      <th>1132</th>\n      <td>468</td>\n      <td>1</td>\n      <td>Carnitas Salad Bowl</td>\n      <td>[Fresh Tomato Salsa, [Rice, Black Beans, Chees...</td>\n      <td>11.89</td>\n    </tr>\n    <tr>\n      <th>1229</th>\n      <td>501</td>\n      <td>1</td>\n      <td>Barbacoa Salad Bowl</td>\n      <td>[Fresh Tomato Salsa, [Rice, Fajita Vegetables,...</td>\n      <td>11.89</td>\n    </tr>\n    <tr>\n      <th>1414</th>\n      <td>575</td>\n      <td>1</td>\n      <td>Salad</td>\n      <td>[Brown Rice, Adobo-Marinated and Grilled Chick...</td>\n      <td>7.40</td>\n    </tr>\n    <tr>\n      <th>1653</th>\n      <td>668</td>\n      <td>1</td>\n      <td>Veggie Crispy Tacos</td>\n      <td>[Fresh Tomato Salsa (Mild), [Pinto Beans, Rice...</td>\n      <td>8.49</td>\n    </tr>\n    <tr>\n      <th>1694</th>\n      <td>686</td>\n      <td>1</td>\n      <td>Veggie Salad</td>\n      <td>[[Fresh Tomato Salsa (Mild), Roasted Chili Cor...</td>\n      <td>8.49</td>\n    </tr>\n    <tr>\n      <th>3750</th>\n      <td>1500</td>\n      <td>1</td>\n      <td>Carnitas Salad</td>\n      <td>[[Fresh Tomato Salsa (Mild), Roasted Chili Cor...</td>\n      <td>8.99</td>\n    </tr>\n  </tbody>\n</table>\n</div>"
     },
     "metadata": {},
     "execution_count": 12
    }
   ],
   "source": [
    "# select only the products with quantity equals to 1\n",
    "chipo_one_prod = chipo_filtered[chipo_filtered.quantity == 1]\n",
    "chipo_one_prod"
   ]
  },
  {
   "cell_type": "code",
   "execution_count": 13,
   "metadata": {},
   "outputs": [
    {
     "output_type": "execute_result",
     "data": {
      "text/plain": "                                  item_name  item_price\n0              Chips and Fresh Tomato Salsa        2.39\n1                                      Izze        3.39\n2                          Nantucket Nectar        3.39\n3     Chips and Tomatillo-Green Chili Salsa        2.39\n5                              Chicken Bowl       10.98\n6                             Side of Chips        1.69\n7                             Steak Burrito       11.75\n8                          Steak Soft Tacos        9.25\n10                      Chips and Guacamole        4.45\n11                     Chicken Crispy Tacos        8.75\n12                       Chicken Soft Tacos        8.75\n16                          Chicken Burrito        8.49\n21                         Barbacoa Burrito        8.99\n27                         Carnitas Burrito        8.99\n28                              Canned Soda        1.09\n33                            Carnitas Bowl        8.99\n34                            Bottled Water        1.09\n38    Chips and Tomatillo Green Chili Salsa        2.95\n39                            Barbacoa Bowl       11.75\n40                                    Chips        2.15\n44                       Chicken Salad Bowl        8.75\n54                               Steak Bowl        8.99\n56                      Barbacoa Soft Tacos        9.25\n57                           Veggie Burrito       11.25\n62                              Veggie Bowl       11.25\n92                       Steak Crispy Tacos        9.25\n111     Chips and Tomatillo Red Chili Salsa        2.95\n168                   Barbacoa Crispy Tacos       11.75\n186                       Veggie Salad Bowl       11.25\n191      Chips and Roasted Chili-Corn Salsa        2.39\n233      Chips and Roasted Chili Corn Salsa        2.95\n237                     Carnitas Soft Tacos        9.25\n250                           Chicken Salad       10.98\n263                       Canned Soft Drink        1.25\n298                       6 Pack Soft Drink        6.49\n300     Chips and Tomatillo-Red Chili Salsa        2.39\n510                                 Burrito        7.40\n520                            Crispy Tacos        7.40\n554                   Carnitas Crispy Tacos        9.25\n606                        Steak Salad Bowl       11.89\n664                             Steak Salad        8.99\n673                                    Bowl        7.40\n674       Chips and Mild Fresh Tomato Salsa        3.00\n738                       Veggie Soft Tacos       11.25\n1132                    Carnitas Salad Bowl       11.89\n1229                    Barbacoa Salad Bowl       11.89\n1414                                  Salad        7.40\n1653                    Veggie Crispy Tacos        8.49\n1694                           Veggie Salad        8.49\n3750                         Carnitas Salad        8.99",
      "text/html": "<div>\n<style scoped>\n    .dataframe tbody tr th:only-of-type {\n        vertical-align: middle;\n    }\n\n    .dataframe tbody tr th {\n        vertical-align: top;\n    }\n\n    .dataframe thead th {\n        text-align: right;\n    }\n</style>\n<table border=\"1\" class=\"dataframe\">\n  <thead>\n    <tr style=\"text-align: right;\">\n      <th></th>\n      <th>item_name</th>\n      <th>item_price</th>\n    </tr>\n  </thead>\n  <tbody>\n    <tr>\n      <th>0</th>\n      <td>Chips and Fresh Tomato Salsa</td>\n      <td>2.39</td>\n    </tr>\n    <tr>\n      <th>1</th>\n      <td>Izze</td>\n      <td>3.39</td>\n    </tr>\n    <tr>\n      <th>2</th>\n      <td>Nantucket Nectar</td>\n      <td>3.39</td>\n    </tr>\n    <tr>\n      <th>3</th>\n      <td>Chips and Tomatillo-Green Chili Salsa</td>\n      <td>2.39</td>\n    </tr>\n    <tr>\n      <th>5</th>\n      <td>Chicken Bowl</td>\n      <td>10.98</td>\n    </tr>\n    <tr>\n      <th>6</th>\n      <td>Side of Chips</td>\n      <td>1.69</td>\n    </tr>\n    <tr>\n      <th>7</th>\n      <td>Steak Burrito</td>\n      <td>11.75</td>\n    </tr>\n    <tr>\n      <th>8</th>\n      <td>Steak Soft Tacos</td>\n      <td>9.25</td>\n    </tr>\n    <tr>\n      <th>10</th>\n      <td>Chips and Guacamole</td>\n      <td>4.45</td>\n    </tr>\n    <tr>\n      <th>11</th>\n      <td>Chicken Crispy Tacos</td>\n      <td>8.75</td>\n    </tr>\n    <tr>\n      <th>12</th>\n      <td>Chicken Soft Tacos</td>\n      <td>8.75</td>\n    </tr>\n    <tr>\n      <th>16</th>\n      <td>Chicken Burrito</td>\n      <td>8.49</td>\n    </tr>\n    <tr>\n      <th>21</th>\n      <td>Barbacoa Burrito</td>\n      <td>8.99</td>\n    </tr>\n    <tr>\n      <th>27</th>\n      <td>Carnitas Burrito</td>\n      <td>8.99</td>\n    </tr>\n    <tr>\n      <th>28</th>\n      <td>Canned Soda</td>\n      <td>1.09</td>\n    </tr>\n    <tr>\n      <th>33</th>\n      <td>Carnitas Bowl</td>\n      <td>8.99</td>\n    </tr>\n    <tr>\n      <th>34</th>\n      <td>Bottled Water</td>\n      <td>1.09</td>\n    </tr>\n    <tr>\n      <th>38</th>\n      <td>Chips and Tomatillo Green Chili Salsa</td>\n      <td>2.95</td>\n    </tr>\n    <tr>\n      <th>39</th>\n      <td>Barbacoa Bowl</td>\n      <td>11.75</td>\n    </tr>\n    <tr>\n      <th>40</th>\n      <td>Chips</td>\n      <td>2.15</td>\n    </tr>\n    <tr>\n      <th>44</th>\n      <td>Chicken Salad Bowl</td>\n      <td>8.75</td>\n    </tr>\n    <tr>\n      <th>54</th>\n      <td>Steak Bowl</td>\n      <td>8.99</td>\n    </tr>\n    <tr>\n      <th>56</th>\n      <td>Barbacoa Soft Tacos</td>\n      <td>9.25</td>\n    </tr>\n    <tr>\n      <th>57</th>\n      <td>Veggie Burrito</td>\n      <td>11.25</td>\n    </tr>\n    <tr>\n      <th>62</th>\n      <td>Veggie Bowl</td>\n      <td>11.25</td>\n    </tr>\n    <tr>\n      <th>92</th>\n      <td>Steak Crispy Tacos</td>\n      <td>9.25</td>\n    </tr>\n    <tr>\n      <th>111</th>\n      <td>Chips and Tomatillo Red Chili Salsa</td>\n      <td>2.95</td>\n    </tr>\n    <tr>\n      <th>168</th>\n      <td>Barbacoa Crispy Tacos</td>\n      <td>11.75</td>\n    </tr>\n    <tr>\n      <th>186</th>\n      <td>Veggie Salad Bowl</td>\n      <td>11.25</td>\n    </tr>\n    <tr>\n      <th>191</th>\n      <td>Chips and Roasted Chili-Corn Salsa</td>\n      <td>2.39</td>\n    </tr>\n    <tr>\n      <th>233</th>\n      <td>Chips and Roasted Chili Corn Salsa</td>\n      <td>2.95</td>\n    </tr>\n    <tr>\n      <th>237</th>\n      <td>Carnitas Soft Tacos</td>\n      <td>9.25</td>\n    </tr>\n    <tr>\n      <th>250</th>\n      <td>Chicken Salad</td>\n      <td>10.98</td>\n    </tr>\n    <tr>\n      <th>263</th>\n      <td>Canned Soft Drink</td>\n      <td>1.25</td>\n    </tr>\n    <tr>\n      <th>298</th>\n      <td>6 Pack Soft Drink</td>\n      <td>6.49</td>\n    </tr>\n    <tr>\n      <th>300</th>\n      <td>Chips and Tomatillo-Red Chili Salsa</td>\n      <td>2.39</td>\n    </tr>\n    <tr>\n      <th>510</th>\n      <td>Burrito</td>\n      <td>7.40</td>\n    </tr>\n    <tr>\n      <th>520</th>\n      <td>Crispy Tacos</td>\n      <td>7.40</td>\n    </tr>\n    <tr>\n      <th>554</th>\n      <td>Carnitas Crispy Tacos</td>\n      <td>9.25</td>\n    </tr>\n    <tr>\n      <th>606</th>\n      <td>Steak Salad Bowl</td>\n      <td>11.89</td>\n    </tr>\n    <tr>\n      <th>664</th>\n      <td>Steak Salad</td>\n      <td>8.99</td>\n    </tr>\n    <tr>\n      <th>673</th>\n      <td>Bowl</td>\n      <td>7.40</td>\n    </tr>\n    <tr>\n      <th>674</th>\n      <td>Chips and Mild Fresh Tomato Salsa</td>\n      <td>3.00</td>\n    </tr>\n    <tr>\n      <th>738</th>\n      <td>Veggie Soft Tacos</td>\n      <td>11.25</td>\n    </tr>\n    <tr>\n      <th>1132</th>\n      <td>Carnitas Salad Bowl</td>\n      <td>11.89</td>\n    </tr>\n    <tr>\n      <th>1229</th>\n      <td>Barbacoa Salad Bowl</td>\n      <td>11.89</td>\n    </tr>\n    <tr>\n      <th>1414</th>\n      <td>Salad</td>\n      <td>7.40</td>\n    </tr>\n    <tr>\n      <th>1653</th>\n      <td>Veggie Crispy Tacos</td>\n      <td>8.49</td>\n    </tr>\n    <tr>\n      <th>1694</th>\n      <td>Veggie Salad</td>\n      <td>8.49</td>\n    </tr>\n    <tr>\n      <th>3750</th>\n      <td>Carnitas Salad</td>\n      <td>8.99</td>\n    </tr>\n  </tbody>\n</table>\n</div>"
     },
     "metadata": {},
     "execution_count": 13
    }
   ],
   "source": [
    "# select only the item_name and item_price columns\n",
    "price_per_item = chipo_one_prod[['item_name', 'item_price']]\n",
    "price_per_item"
   ]
  },
  {
   "cell_type": "code",
   "execution_count": 14,
   "metadata": {},
   "outputs": [
    {
     "output_type": "execute_result",
     "data": {
      "text/plain": "                                  item_name  item_price\n606                        Steak Salad Bowl       11.89\n1229                    Barbacoa Salad Bowl       11.89\n1132                    Carnitas Salad Bowl       11.89\n7                             Steak Burrito       11.75\n168                   Barbacoa Crispy Tacos       11.75\n39                            Barbacoa Bowl       11.75\n738                       Veggie Soft Tacos       11.25\n186                       Veggie Salad Bowl       11.25\n62                              Veggie Bowl       11.25\n57                           Veggie Burrito       11.25\n250                           Chicken Salad       10.98\n5                              Chicken Bowl       10.98\n8                          Steak Soft Tacos        9.25\n554                   Carnitas Crispy Tacos        9.25\n237                     Carnitas Soft Tacos        9.25\n56                      Barbacoa Soft Tacos        9.25\n92                       Steak Crispy Tacos        9.25\n664                             Steak Salad        8.99\n54                               Steak Bowl        8.99\n3750                         Carnitas Salad        8.99\n21                         Barbacoa Burrito        8.99\n27                         Carnitas Burrito        8.99\n33                            Carnitas Bowl        8.99\n11                     Chicken Crispy Tacos        8.75\n12                       Chicken Soft Tacos        8.75\n44                       Chicken Salad Bowl        8.75\n1653                    Veggie Crispy Tacos        8.49\n16                          Chicken Burrito        8.49\n1694                           Veggie Salad        8.49\n1414                                  Salad        7.40\n510                                 Burrito        7.40\n520                            Crispy Tacos        7.40\n673                                    Bowl        7.40\n298                       6 Pack Soft Drink        6.49\n10                      Chips and Guacamole        4.45\n1                                      Izze        3.39\n2                          Nantucket Nectar        3.39\n674       Chips and Mild Fresh Tomato Salsa        3.00\n111     Chips and Tomatillo Red Chili Salsa        2.95\n233      Chips and Roasted Chili Corn Salsa        2.95\n38    Chips and Tomatillo Green Chili Salsa        2.95\n3     Chips and Tomatillo-Green Chili Salsa        2.39\n300     Chips and Tomatillo-Red Chili Salsa        2.39\n191      Chips and Roasted Chili-Corn Salsa        2.39\n0              Chips and Fresh Tomato Salsa        2.39\n40                                    Chips        2.15\n6                             Side of Chips        1.69\n263                       Canned Soft Drink        1.25\n28                              Canned Soda        1.09\n34                            Bottled Water        1.09",
      "text/html": "<div>\n<style scoped>\n    .dataframe tbody tr th:only-of-type {\n        vertical-align: middle;\n    }\n\n    .dataframe tbody tr th {\n        vertical-align: top;\n    }\n\n    .dataframe thead th {\n        text-align: right;\n    }\n</style>\n<table border=\"1\" class=\"dataframe\">\n  <thead>\n    <tr style=\"text-align: right;\">\n      <th></th>\n      <th>item_name</th>\n      <th>item_price</th>\n    </tr>\n  </thead>\n  <tbody>\n    <tr>\n      <th>606</th>\n      <td>Steak Salad Bowl</td>\n      <td>11.89</td>\n    </tr>\n    <tr>\n      <th>1229</th>\n      <td>Barbacoa Salad Bowl</td>\n      <td>11.89</td>\n    </tr>\n    <tr>\n      <th>1132</th>\n      <td>Carnitas Salad Bowl</td>\n      <td>11.89</td>\n    </tr>\n    <tr>\n      <th>7</th>\n      <td>Steak Burrito</td>\n      <td>11.75</td>\n    </tr>\n    <tr>\n      <th>168</th>\n      <td>Barbacoa Crispy Tacos</td>\n      <td>11.75</td>\n    </tr>\n    <tr>\n      <th>39</th>\n      <td>Barbacoa Bowl</td>\n      <td>11.75</td>\n    </tr>\n    <tr>\n      <th>738</th>\n      <td>Veggie Soft Tacos</td>\n      <td>11.25</td>\n    </tr>\n    <tr>\n      <th>186</th>\n      <td>Veggie Salad Bowl</td>\n      <td>11.25</td>\n    </tr>\n    <tr>\n      <th>62</th>\n      <td>Veggie Bowl</td>\n      <td>11.25</td>\n    </tr>\n    <tr>\n      <th>57</th>\n      <td>Veggie Burrito</td>\n      <td>11.25</td>\n    </tr>\n    <tr>\n      <th>250</th>\n      <td>Chicken Salad</td>\n      <td>10.98</td>\n    </tr>\n    <tr>\n      <th>5</th>\n      <td>Chicken Bowl</td>\n      <td>10.98</td>\n    </tr>\n    <tr>\n      <th>8</th>\n      <td>Steak Soft Tacos</td>\n      <td>9.25</td>\n    </tr>\n    <tr>\n      <th>554</th>\n      <td>Carnitas Crispy Tacos</td>\n      <td>9.25</td>\n    </tr>\n    <tr>\n      <th>237</th>\n      <td>Carnitas Soft Tacos</td>\n      <td>9.25</td>\n    </tr>\n    <tr>\n      <th>56</th>\n      <td>Barbacoa Soft Tacos</td>\n      <td>9.25</td>\n    </tr>\n    <tr>\n      <th>92</th>\n      <td>Steak Crispy Tacos</td>\n      <td>9.25</td>\n    </tr>\n    <tr>\n      <th>664</th>\n      <td>Steak Salad</td>\n      <td>8.99</td>\n    </tr>\n    <tr>\n      <th>54</th>\n      <td>Steak Bowl</td>\n      <td>8.99</td>\n    </tr>\n    <tr>\n      <th>3750</th>\n      <td>Carnitas Salad</td>\n      <td>8.99</td>\n    </tr>\n    <tr>\n      <th>21</th>\n      <td>Barbacoa Burrito</td>\n      <td>8.99</td>\n    </tr>\n    <tr>\n      <th>27</th>\n      <td>Carnitas Burrito</td>\n      <td>8.99</td>\n    </tr>\n    <tr>\n      <th>33</th>\n      <td>Carnitas Bowl</td>\n      <td>8.99</td>\n    </tr>\n    <tr>\n      <th>11</th>\n      <td>Chicken Crispy Tacos</td>\n      <td>8.75</td>\n    </tr>\n    <tr>\n      <th>12</th>\n      <td>Chicken Soft Tacos</td>\n      <td>8.75</td>\n    </tr>\n    <tr>\n      <th>44</th>\n      <td>Chicken Salad Bowl</td>\n      <td>8.75</td>\n    </tr>\n    <tr>\n      <th>1653</th>\n      <td>Veggie Crispy Tacos</td>\n      <td>8.49</td>\n    </tr>\n    <tr>\n      <th>16</th>\n      <td>Chicken Burrito</td>\n      <td>8.49</td>\n    </tr>\n    <tr>\n      <th>1694</th>\n      <td>Veggie Salad</td>\n      <td>8.49</td>\n    </tr>\n    <tr>\n      <th>1414</th>\n      <td>Salad</td>\n      <td>7.40</td>\n    </tr>\n    <tr>\n      <th>510</th>\n      <td>Burrito</td>\n      <td>7.40</td>\n    </tr>\n    <tr>\n      <th>520</th>\n      <td>Crispy Tacos</td>\n      <td>7.40</td>\n    </tr>\n    <tr>\n      <th>673</th>\n      <td>Bowl</td>\n      <td>7.40</td>\n    </tr>\n    <tr>\n      <th>298</th>\n      <td>6 Pack Soft Drink</td>\n      <td>6.49</td>\n    </tr>\n    <tr>\n      <th>10</th>\n      <td>Chips and Guacamole</td>\n      <td>4.45</td>\n    </tr>\n    <tr>\n      <th>1</th>\n      <td>Izze</td>\n      <td>3.39</td>\n    </tr>\n    <tr>\n      <th>2</th>\n      <td>Nantucket Nectar</td>\n      <td>3.39</td>\n    </tr>\n    <tr>\n      <th>674</th>\n      <td>Chips and Mild Fresh Tomato Salsa</td>\n      <td>3.00</td>\n    </tr>\n    <tr>\n      <th>111</th>\n      <td>Chips and Tomatillo Red Chili Salsa</td>\n      <td>2.95</td>\n    </tr>\n    <tr>\n      <th>233</th>\n      <td>Chips and Roasted Chili Corn Salsa</td>\n      <td>2.95</td>\n    </tr>\n    <tr>\n      <th>38</th>\n      <td>Chips and Tomatillo Green Chili Salsa</td>\n      <td>2.95</td>\n    </tr>\n    <tr>\n      <th>3</th>\n      <td>Chips and Tomatillo-Green Chili Salsa</td>\n      <td>2.39</td>\n    </tr>\n    <tr>\n      <th>300</th>\n      <td>Chips and Tomatillo-Red Chili Salsa</td>\n      <td>2.39</td>\n    </tr>\n    <tr>\n      <th>191</th>\n      <td>Chips and Roasted Chili-Corn Salsa</td>\n      <td>2.39</td>\n    </tr>\n    <tr>\n      <th>0</th>\n      <td>Chips and Fresh Tomato Salsa</td>\n      <td>2.39</td>\n    </tr>\n    <tr>\n      <th>40</th>\n      <td>Chips</td>\n      <td>2.15</td>\n    </tr>\n    <tr>\n      <th>6</th>\n      <td>Side of Chips</td>\n      <td>1.69</td>\n    </tr>\n    <tr>\n      <th>263</th>\n      <td>Canned Soft Drink</td>\n      <td>1.25</td>\n    </tr>\n    <tr>\n      <th>28</th>\n      <td>Canned Soda</td>\n      <td>1.09</td>\n    </tr>\n    <tr>\n      <th>34</th>\n      <td>Bottled Water</td>\n      <td>1.09</td>\n    </tr>\n  </tbody>\n</table>\n</div>"
     },
     "metadata": {},
     "execution_count": 14
    }
   ],
   "source": [
    "# sort the values from the most to less expensive\n",
    "price_per_item.sort_values(by = \"item_price\", ascending = False)"
   ]
  },
  {
   "cell_type": "markdown",
   "metadata": {},
   "source": [
    "### Step 6. Sort by the name of the item"
   ]
  },
  {
   "cell_type": "code",
   "execution_count": 15,
   "metadata": {},
   "outputs": [
    {
     "output_type": "execute_result",
     "data": {
      "text/plain": "3389    6 Pack Soft Drink\n341     6 Pack Soft Drink\n1849    6 Pack Soft Drink\n1860    6 Pack Soft Drink\n2713    6 Pack Soft Drink\n              ...        \n2384    Veggie Soft Tacos\n781     Veggie Soft Tacos\n2851    Veggie Soft Tacos\n1699    Veggie Soft Tacos\n1395    Veggie Soft Tacos\nName: item_name, Length: 4622, dtype: object"
     },
     "metadata": {},
     "execution_count": 15
    }
   ],
   "source": [
    "chipo.item_name.sort_values()"
   ]
  },
  {
   "cell_type": "markdown",
   "metadata": {},
   "source": [
    "### Step 7. What was the quantity of the most expensive item ordered?"
   ]
  },
  {
   "cell_type": "code",
   "execution_count": 16,
   "metadata": {},
   "outputs": [
    {
     "output_type": "execute_result",
     "data": {
      "text/plain": "      order_id  quantity                     item_name  \\\n3598      1443        15  Chips and Fresh Tomato Salsa   \n3480      1398         3                 Carnitas Bowl   \n1254       511         4               Chicken Burrito   \n3602      1443         4               Chicken Burrito   \n3601      1443         3                Veggie Burrito   \n\n                                     choice_description  item_price  \n3598                                                NaN       44.25  \n3480  [Roasted Chili Corn Salsa, [Fajita Vegetables,...       35.25  \n1254  [Fresh Tomato Salsa, [Fajita Vegetables, Rice,...       35.00  \n3602  [Fresh Tomato Salsa, [Rice, Black Beans, Chees...       35.00  \n3601  [Fresh Tomato Salsa, [Fajita Vegetables, Rice,...       33.75  ",
      "text/html": "<div>\n<style scoped>\n    .dataframe tbody tr th:only-of-type {\n        vertical-align: middle;\n    }\n\n    .dataframe tbody tr th {\n        vertical-align: top;\n    }\n\n    .dataframe thead th {\n        text-align: right;\n    }\n</style>\n<table border=\"1\" class=\"dataframe\">\n  <thead>\n    <tr style=\"text-align: right;\">\n      <th></th>\n      <th>order_id</th>\n      <th>quantity</th>\n      <th>item_name</th>\n      <th>choice_description</th>\n      <th>item_price</th>\n    </tr>\n  </thead>\n  <tbody>\n    <tr>\n      <th>3598</th>\n      <td>1443</td>\n      <td>15</td>\n      <td>Chips and Fresh Tomato Salsa</td>\n      <td>NaN</td>\n      <td>44.25</td>\n    </tr>\n    <tr>\n      <th>3480</th>\n      <td>1398</td>\n      <td>3</td>\n      <td>Carnitas Bowl</td>\n      <td>[Roasted Chili Corn Salsa, [Fajita Vegetables,...</td>\n      <td>35.25</td>\n    </tr>\n    <tr>\n      <th>1254</th>\n      <td>511</td>\n      <td>4</td>\n      <td>Chicken Burrito</td>\n      <td>[Fresh Tomato Salsa, [Fajita Vegetables, Rice,...</td>\n      <td>35.00</td>\n    </tr>\n    <tr>\n      <th>3602</th>\n      <td>1443</td>\n      <td>4</td>\n      <td>Chicken Burrito</td>\n      <td>[Fresh Tomato Salsa, [Rice, Black Beans, Chees...</td>\n      <td>35.00</td>\n    </tr>\n    <tr>\n      <th>3601</th>\n      <td>1443</td>\n      <td>3</td>\n      <td>Veggie Burrito</td>\n      <td>[Fresh Tomato Salsa, [Fajita Vegetables, Rice,...</td>\n      <td>33.75</td>\n    </tr>\n  </tbody>\n</table>\n</div>"
     },
     "metadata": {},
     "execution_count": 16
    }
   ],
   "source": [
    "chipo.sort_values(by = \"item_price\", ascending = False).head(5)"
   ]
  },
  {
   "cell_type": "code",
   "execution_count": 26,
   "metadata": {
    "collapsed": false
   },
   "outputs": [
    {
     "data": {
      "text/html": [
       "<div>\n",
       "<table border=\"1\" class=\"dataframe\">\n",
       "  <thead>\n",
       "    <tr style=\"text-align: right;\">\n",
       "      <th></th>\n",
       "      <th>order_id</th>\n",
       "      <th>quantity</th>\n",
       "      <th>item_name</th>\n",
       "      <th>choice_description</th>\n",
       "      <th>item_price</th>\n",
       "    </tr>\n",
       "  </thead>\n",
       "  <tbody>\n",
       "    <tr>\n",
       "      <th>3598</th>\n",
       "      <td>1443</td>\n",
       "      <td>15</td>\n",
       "      <td>Chips and Fresh Tomato Salsa</td>\n",
       "      <td>NaN</td>\n",
       "      <td>44.25</td>\n",
       "    </tr>\n",
       "  </tbody>\n",
       "</table>\n",
       "</div>"
      ],
      "text/plain": [
       "      order_id  quantity                     item_name choice_description  \\\n",
       "3598      1443        15  Chips and Fresh Tomato Salsa                NaN   \n",
       "\n",
       "      item_price  \n",
       "3598       44.25  "
      ]
     },
     "execution_count": 26,
     "metadata": {},
     "output_type": "execute_result"
    }
   ],
   "source": []
  },
  {
   "cell_type": "markdown",
   "metadata": {},
   "source": [
    "### Step 8. How many times was a Veggie Salad Bowl ordered?"
   ]
  },
  {
   "cell_type": "code",
   "execution_count": 18,
   "metadata": {
    "collapsed": false
   },
   "outputs": [
    {
     "output_type": "execute_result",
     "data": {
      "text/plain": "18"
     },
     "metadata": {},
     "execution_count": 18
    }
   ],
   "source": [
    "chipo_salad = chipo[chipo.item_name == \"Veggie Salad Bowl\"]\n",
    "len(chipo_salad)"
   ]
  },
  {
   "cell_type": "markdown",
   "metadata": {},
   "source": [
    "### Step 9. How many times did someone order more than one Canned Soda?"
   ]
  },
  {
   "cell_type": "code",
   "execution_count": 20,
   "metadata": {
    "collapsed": false
   },
   "outputs": [
    {
     "output_type": "execute_result",
     "data": {
      "text/plain": "20"
     },
     "metadata": {},
     "execution_count": 20
    }
   ],
   "source": [
    "chipo_drink_steak_bowl = chipo[(chipo.item_name == \"Canned Soda\") & (chipo.quantity > 1)]\n",
    "chipo_drink_steak_bowl\n",
    "len(chipo_drink_steak_bowl)"
   ]
  },
  {
   "cell_type": "code",
   "execution_count": null,
   "metadata": {},
   "outputs": [],
   "source": []
  }
 ],
 "metadata": {
  "anaconda-cloud": {},
  "kernelspec": {
   "display_name": "Python 3.8.3 64-bit",
   "language": "python",
   "name": "python_defaultSpec_1594722972306"
  },
  "language_info": {
   "codemirror_mode": {
    "name": "ipython",
    "version": 2
   },
   "file_extension": ".py",
   "mimetype": "text/x-python",
   "name": "python",
   "nbconvert_exporter": "python",
   "pygments_lexer": "ipython2",
   "version": "3.7.4-final"
  }
 },
 "nbformat": 4,
 "nbformat_minor": 0
}