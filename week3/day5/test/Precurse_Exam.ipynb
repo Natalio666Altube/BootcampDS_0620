{
 "cells": [
  {
   "cell_type": "markdown",
   "metadata": {},
   "source": [
    "## Examen final precurso \n",
    "\n",
    "A continuación se realizarán una serie de preguntas que abarcan la siguiente temática:\n",
    "\n",
    "- Fundamentos de Python\n",
    "- SQL\n",
    "- Git\n",
    "\n",
    "Hacer cada ejercicio en una función con un nombre diferente siempre que se pida.\n",
    "\n",
    "**Aconsejamos leer todo el enunciado antes de empezar a hacer el ejercicio.**"
   ]
  },
  {
   "cell_type": "markdown",
   "metadata": {},
   "source": [
    "### Ejercicio 1\n",
    "\n",
    "Antes de empezar, se pide realizar un `git push` para subir todos los cambios que se tienen en local al repositorio (con su `git add` & `git commit` correspondiente). Este será el último `git push` en el día de hoy.\n",
    "\n",
    "A partir de ese momento, *no se puede hacer `git push` hasta después del día de hoy [03/07/2020]*. Hacerlo se calificará como error grave.\n",
    "\n",
    "Para cada uno de los ejecicios del examen, realiza un commit escribiendo como título del commit el ejercicio al que corresponde guardando los cambios realizados. \n",
    "\n",
    "Estando en la carpeta de tu repositorio en la **terminal** o **gitbash** haz `git log`. Este comando mostrará los últimos commits: haz una captura de pantalla de lo que muestre y envíalo a tus profesores por email junto con el link a tu repositorio. Y el archivo Jupiter adjunto de los ejercicios.\n",
    "\n",
    "\n",
    "Ten en cuenta que tienes hasta las 23:59 del día de hoy para enviar el email. "
   ]
  },
  {
   "cell_type": "markdown",
   "metadata": {},
   "source": [
    "### Ejercicio 2\n",
    "\n",
    "Un n-grama es una secuencia de 𝑛 caracteres consecutivos de una cadena. Por ejemplo, los 4-gramas de la cadena 'Elefante' son 'Elef', 'lefa', 'efan', 'fant' y 'ante'. Define una función que pregunte por una string y un número entero positivo 𝑛 y muestre por pantalla todos los n-gramas de la cadena."
   ]
  },
  {
   "cell_type": "code",
   "execution_count": 74,
   "metadata": {
    "tags": []
   },
   "outputs": [
    {
     "output_type": "stream",
     "name": "stdout",
     "text": "el\nle\nef\nfa\nan\nnt\n"
    }
   ],
   "source": [
    "def grama(palabrasynumeros):\n",
    "    estring = input(\"Introduce una palabra:\")\n",
    "    entero = (int(input(\"Introduce un numero entero positivo n:\")))\n",
    "    pos = 0\n",
    "    for x in (range(len(estring) - (int(entero)))):\n",
    "        print(estring[x:x + entero])\n",
    "        pos + 1\n",
    "\n",
    "z = grama(palabrasynumeros=input)"
   ]
  },
  {
   "cell_type": "markdown",
   "metadata": {},
   "source": [
    "### Ejercicio 3\n",
    "\n",
    "Escribir una función que reciba por parámetro una lista y que devuelva todos los elementos que se repiten. Además, la función ha de mostrar por pantalla la lista sin elementos repetidos. \n",
    "\n",
    "La lista ha de ser la siguiente: `[2,2,4,3,7,7,7,8,6,7,3,1,2]`\n",
    "\n",
    " \n",
    " **La funcionalidad de este ejercicio debe estar contenido en una función.**"
   ]
  },
  {
   "cell_type": "code",
   "execution_count": 76,
   "metadata": {},
   "outputs": [
    {
     "output_type": "execute_result",
     "data": {
      "text/plain": "[2, 2, 4, 3, 7, 7, 7, 8, 6, 7, 3, 1, 2]"
     },
     "metadata": {},
     "execution_count": 76
    }
   ],
   "source": [
    "lista = [2,2,4,3,7,7,7,8,6,7,3,1,2]\n",
    "lista"
   ]
  },
  {
   "cell_type": "code",
   "execution_count": 67,
   "metadata": {
    "tags": []
   },
   "outputs": [
    {
     "output_type": "stream",
     "name": "stdout",
     "text": "2\n2\n3\n7\n7\n7\n7\n3\n2\n"
    }
   ],
   "source": [
    "lista = [2,2,4,3,7,7,7,8,6,7,3,1,2]\n",
    "elem = 0\n",
    "def f_16(lista):\n",
    "    for x in lista:\n",
    "        if x == lista[0]:\n",
    "            print(x)\n",
    "            x = elem+1\n",
    "        elif x == lista[3]:\n",
    "            print(x)\n",
    "            x = elem+1\n",
    "        elif x == lista[5]:\n",
    "             print(x)         \n",
    "            \n",
    "             \t\t   \n",
    "                \n",
    "\t\n",
    "\n",
    "f_16(lista)\n",
    "\n",
    "   "
   ]
  },
  {
   "cell_type": "code",
   "execution_count": 40,
   "metadata": {
    "tags": []
   },
   "outputs": [
    {
     "output_type": "stream",
     "name": "stdout",
     "text": "{1, 2, 3, 4, 6, 7, 8}\n"
    }
   ],
   "source": [
    "lista=set(lista)\n",
    "print(lista)\n"
   ]
  },
  {
   "cell_type": "markdown",
   "metadata": {},
   "source": [
    "### Ejercicio 4:\n",
    "\n",
    "En este ejercicio se va a crear una lista con los siguientes elementos. Primero, crearemos las variables que luego añadiremos a la lista. Las variables son las siguientes:\n",
    "\n",
    "1. Crea una variable llamada `num_dni` de tipo Integer que represente el primer número de tu DNI. \n",
    "2. Crea una variable llamada `let_dni` de tipo String y que represente la letra de vuestro DNI.\n",
    "3. Crea una variable llamada `tip_ord` de tipo Boolean True si usas Windows y False si usas Mac.\n",
    "4. Crea una variable llamada `nada` de tipo None cuyo valor sea None.\n",
    "5. Crea una variable llamada `lista_deseo` de tipo List que contenga los cuatro objetos que te llevarías a una isla desierta. Cada elemento ha de ser de tipo String y el tamaño de la lista ha de ser 4.\n",
    "6. Crea una variable llamada `tupla_ropa` de tipo Tuple con la marca de la prenda superior, inferior y calzado que llevas puesto.\n",
    "7. Crea una variable llamada `dict_info` con dos keys y dos values. Una key es 'nombre', teniendo como value vuestro nombre. Otra key es 'edad', teniendo como value vuestra edad.\n",
    "8. Crea una variable llamada `flo_hor` con la hora actual separada por punto en vez de dos puntos. Ejemplo: si son las 17:06, el valor de la variable sería 17.06.\n",
    "\n",
    "Añade todos estos elementos en una lista llamada `lista_examen` en el orden de aparición."
   ]
  },
  {
   "cell_type": "code",
   "execution_count": 30,
   "metadata": {
    "tags": []
   },
   "outputs": [
    {
     "output_type": "stream",
     "name": "stdout",
     "text": "['marihuana', 'cuchillo', 'lapicera', 'abrigo']\n('SinMarca', 'Rusty', 'Nike')\n"
    }
   ],
   "source": [
    "num_dni = 3\n",
    "let_dni = \"T\"\n",
    "tip_ord = False\n",
    "nada = None\n",
    "lista_deseo = [\"marihuana\", \"cuchillo\", \"lapicera\", \"abrigo\"]\n",
    "tupla_ropa = (\"SinMarca\",\"Rusty\", \"Nike\")\n",
    "dict_info = {'nombre':'Natalio','edad': 29}\n",
    "flor_hor = 16.53\n",
    "\n",
    "print(lista_deseo)\n",
    "print(tupla_ropa)"
   ]
  },
  {
   "cell_type": "code",
   "execution_count": 23,
   "metadata": {
    "tags": []
   },
   "outputs": [
    {
     "output_type": "stream",
     "name": "stdout",
     "text": "[3, 'T', False, None, ['marihuana', 'cuchillo', 'lapicera', 'abrigo'], ('SinMarca', 'Rusty', 'Nike'), {'nombre': 'Natalio', 'edad': 29}, 16.53]\n"
    }
   ],
   "source": [
    "lista_examen = [num_dni, let_dni, tip_ord, nada, lista_deseo, tupla_ropa, dict_info, flor_hor]\n",
    "print(lista_examen)"
   ]
  },
  {
   "cell_type": "markdown",
   "metadata": {},
   "source": [
    "-----------------------------\n",
    "\n",
    "**IMPORTANTE**: A partir de este momento y para todo el *ejercicio 5*, solo se van a utilizar los datos almacenados en `lista_examen`. Debe contener 8 elementos.\n",
    "\n",
    "-----------------------------\n",
    "### Ejercicio 5. \n",
    "\n",
    "Recuerda usar únicamente la variable `lista_examen`. Leer cada punto hasta el final antes de hacer la tarea. \n",
    "\n",
    "Se repite para que quede aún más claro: **SOLO USAR LA VARIABLE** `lista_examen`. Usar las demás variables se calificará como error.  \n",
    "\n",
    "1. Mostrar por pantalla, sin uso de funciones ni bucles: \n",
    "    - El segundo elemento de `lista_deseo` desde `lista_examen`.\n",
    "    - El calzado que llevas puesto.\n",
    "    - Vuestro nombre.\n",
    "    - La hora almacenada concatenada con vuestra edad y el número de vuestro de DNI. No debe haber espacios entre la concatenación.\n",
    "    - Si tenéis más de 20 años, el primer número de vuestro DNI es mayor a 7 y usas Mac, mostrar la posición 5 de `lista_examen`.\n",
    "\n",
    "2. Mostrar por pantalla, con uso de bucles:\n",
    "    - Todos los elementos de `lista_examen`.\n",
    "    - Todos los elementos de `lista_deseo` desde `lista_examen`.\n",
    "    - Todos los elementos de `tupla_ropa` seguido de la cadena `\"-->\"` y la `posición` (int) que ocupa en la tupla accediendo desde `lista_examen`. Se aconseja utilizar *`enumerate`*.\n",
    "    - Cada key de `dict_info` seguido de la cadena \":\" seguido de su value desde `lista_examen`.\n",
    "    - Todos los elementos que ocupen una posición menor a 4 en `lista_examen`."
   ]
  },
  {
   "cell_type": "code",
   "execution_count": 24,
   "metadata": {
    "tags": []
   },
   "outputs": [
    {
     "output_type": "stream",
     "name": "stdout",
     "text": "[3, 'T', False, None, ['marihuana', 'cuchillo', 'lapicera', 'abrigo'], ('SinMarca', 'Rusty', 'Nike'), {'nombre': 'Natalio', 'edad': 29}, 16.53]\n"
    }
   ],
   "source": [
    "lista_examen\n",
    "print(lista_examen)"
   ]
  },
  {
   "cell_type": "code",
   "execution_count": 31,
   "metadata": {},
   "outputs": [
    {
     "output_type": "execute_result",
     "data": {
      "text/plain": "'cuchillo'"
     },
     "metadata": {},
     "execution_count": 31
    }
   ],
   "source": [
    "#a \n",
    "lista_examen[4][1]\n"
   ]
  },
  {
   "cell_type": "code",
   "execution_count": 32,
   "metadata": {},
   "outputs": [
    {
     "output_type": "execute_result",
     "data": {
      "text/plain": "'Nike'"
     },
     "metadata": {},
     "execution_count": 32
    }
   ],
   "source": [
    "#b\n",
    "lista_examen[5][2]"
   ]
  },
  {
   "cell_type": "code",
   "execution_count": 50,
   "metadata": {},
   "outputs": [
    {
     "output_type": "execute_result",
     "data": {
      "text/plain": "'Natalio'"
     },
     "metadata": {},
     "execution_count": 50
    }
   ],
   "source": [
    "#c\n",
    "lista_examen[6]['nombre']"
   ]
  },
  {
   "cell_type": "code",
   "execution_count": 114,
   "metadata": {
    "tags": []
   },
   "outputs": [
    {
     "output_type": "execute_result",
     "data": {
      "text/plain": "'16.53293'"
     },
     "metadata": {},
     "execution_count": 114
    }
   ],
   "source": [
    "#d\n",
    "lista_examen11 = str(lista_examen[-1]) + str(lista_examen[6]['edad']) + str(lista_examen[0])\n",
    "lista_examen11"
   ]
  },
  {
   "cell_type": "code",
   "execution_count": 106,
   "metadata": {},
   "outputs": [],
   "source": [
    "#d"
   ]
  },
  {
   "cell_type": "markdown",
   "metadata": {},
   "source": [
    "Todos los elementos de lista_examen."
   ]
  },
  {
   "cell_type": "code",
   "execution_count": 68,
   "metadata": {
    "tags": []
   },
   "outputs": [
    {
     "output_type": "stream",
     "name": "stdout",
     "text": "3\nT\nFalse\nNone\n['marihuana', 'cuchillo', 'lapicera', 'abrigo']\n('SinMarca', 'Rusty', 'Nike')\n{'nombre': 'Natalio', 'edad': 29}\n16.53\n"
    }
   ],
   "source": [
    "for x in lista_examen:\n",
    "    print(x)"
   ]
  },
  {
   "cell_type": "markdown",
   "metadata": {},
   "source": [
    "Todos los elementos de lista_deseo desde lista_examen"
   ]
  },
  {
   "cell_type": "code",
   "execution_count": 72,
   "metadata": {
    "tags": []
   },
   "outputs": [
    {
     "output_type": "stream",
     "name": "stdout",
     "text": "['marihuana', 'cuchillo', 'lapicera', 'abrigo']\n"
    }
   ],
   "source": [
    "for i, x in enumerate(lista_examen):\n",
    "    i+1\n",
    "    if isinstance(x, list):\n",
    "        print(x)"
   ]
  },
  {
   "cell_type": "markdown",
   "metadata": {},
   "source": [
    "Todos los elementos de tupla_ropa seguido de la cadena \"-->\" y la posición (int) que ocupa en la tupla accediendo desde lista_examen. Se aconseja utilizar enumerate.Todos los elementos de tupla_ropa seguido de la cadena \"-->\" y la posición (int) que ocupa en la tupla accediendo desde lista_examen. Se aconseja utilizar enumerate."
   ]
  },
  {
   "cell_type": "code",
   "execution_count": 135,
   "metadata": {
    "tags": []
   },
   "outputs": [
    {
     "output_type": "stream",
     "name": "stdout",
     "text": "pos 1\n(0, 'SinMarca')\n--->\npos 2\n(1, 'Rusty')\n--->\npos 3\n(2, 'Nike')\n--->\n"
    }
   ],
   "source": [
    "for y in enumerate(lista_examen[5]):\n",
    "    print(\"pos\",y[0] + 1)\n",
    "    print(y)\n",
    "    print(\"--->\")\n",
    "       \n",
    "        \n",
    "       \n",
    "\n",
    "    \n"
   ]
  },
  {
   "cell_type": "markdown",
   "metadata": {},
   "source": [
    "Cada key de dict_info seguido de la cadena \":\" seguido de su value desde lista_examen."
   ]
  },
  {
   "cell_type": "code",
   "execution_count": 116,
   "metadata": {
    "tags": []
   },
   "outputs": [
    {
     "output_type": "stream",
     "name": "stdout",
     "text": "nombre:Natalio\nedad:29\n"
    }
   ],
   "source": [
    "for i,x in enumerate(lista_examen):\n",
    "    if isinstance(x, dict):\n",
    "        print(\"nombre\" + \":\" + \"Natalio\")\n",
    "        print(\"edad\" + \":\" + \"29\")"
   ]
  },
  {
   "cell_type": "markdown",
   "metadata": {},
   "source": [
    "Todos los elementos que ocupen una posición menor a 4 en lista_examen."
   ]
  },
  {
   "cell_type": "code",
   "execution_count": 120,
   "metadata": {
    "tags": []
   },
   "outputs": [
    {
     "output_type": "stream",
     "name": "stdout",
     "text": "3\nT\nFalse\nNone\n['marihuana', 'cuchillo', 'lapicera', 'abrigo']\n"
    }
   ],
   "source": [
    "pos = 0\n",
    "for pos, x in enumerate(lista_examen):\n",
    "    if pos <= 4:\n",
    "        print(x)\n",
    "        pos +1\n"
   ]
  },
  {
   "cell_type": "markdown",
   "metadata": {},
   "source": [
    "### Ejercicio 6\n",
    "\n",
    "Crea una clase \"Humano\" que tenga 3 atributos: \"edad\", \"altura\" y \"nombre\". Además, debe contar con dos funciones: \n",
    "\n",
    "- \"cumplir_edad\": al llamar a esta función se debe sumar 1 a la edad actual del humano. \n",
    "- \"registro_nombre\" que recibe parametro \"nuevo_nombre\": al llamar a esta función con un parámetro de entrada, esta función debe cambiar el nombre del humano por el \"nuevo_nombre\"\n",
    "\n",
    "Crea un humano llamado \"Wolfram\" que tiene 23 años de edad y mide 173 centímetros. A \"Wolfram\" nunca le gustó su nombre. Por eso, usa la función correspondiente para cambiarle su nombre por \"Benacio\". Además, hoy es su cumpleaños por lo que usa la función para aumentar su edad. \n",
    "\n",
    "Muestra por pantalla el nombre del humano antes y después de cambiarse de nombre. Muestra también la edad de Benacio antes y después de cumplir años."
   ]
  },
  {
   "cell_type": "code",
   "execution_count": 133,
   "metadata": {
    "tags": []
   },
   "outputs": [
    {
     "output_type": "stream",
     "name": "stdout",
     "text": "Wolfram\n23\n1.73\nBonifacio\n24\n1.73\n"
    }
   ],
   "source": [
    "class Humano():\n",
    "    def __init__(self, edad, altura,nombre):\n",
    "        self.edad = edad\n",
    "        self.altura = altura\n",
    "        self.nombre = nombre\n",
    "       \n",
    "\n",
    "    def cumple_anos(self):\n",
    "        self.edad += 1\n",
    "\n",
    "    def altura(self):\n",
    "        self.altura = altura\n",
    "\n",
    "    def nombre(self):\n",
    "        self.nombre = nombre\n",
    "    \n",
    "\n",
    "wolfram = Humano(nombre=\"Wolfram\", edad=23, altura=1.73)\n",
    "print(wolfram.nombre)\n",
    "print(wolfram.edad)\n",
    "print(wolfram.altura)\n",
    "\n",
    "bonifacio = Humano(nombre=\"Bonifacio\", edad=24, altura=1.73)\n",
    "print(bonifacio.nombre)\n",
    "print(bonifacio.edad)\n",
    "print(bonifacio.altura)\n"
   ]
  },
  {
   "cell_type": "markdown",
   "metadata": {},
   "source": [
    "### Ejercicio 7\n",
    "\n",
    "Crea un diccionario llamado `generador` que tenga 10 elementos. Cada key es un número del 0 al 9 y su value es una letra del abecedario (empezando por la \"A\" y siguiendo el orden alfabético hasta la \"J\").\n",
    "\n",
    "Muestra por pantalla cada key seguido de dos puntos y su value."
   ]
  },
  {
   "cell_type": "code",
   "execution_count": 143,
   "metadata": {
    "tags": []
   },
   "outputs": [
    {
     "output_type": "stream",
     "name": "stdout",
     "text": "{'0': 'A', '1': 'B', '2': 'C', '3': 'D', '4': 'E', '5': 'F', '6': 'G', '7': 'H', '8': 'I', '9': 'J'}\n"
    }
   ],
   "source": [
    "generador = {'0':'A','1':'B','2':'C','3':'D','4':'E','5':'F','6':'G','7':'H','8':'I','9':'J'}\n",
    "print(generador)\n",
    " "
   ]
  },
  {
   "cell_type": "markdown",
   "metadata": {},
   "source": [
    "### Ejercicio 8\n",
    "\n"
   ]
  },
  {
   "cell_type": "markdown",
   "metadata": {},
   "source": [
    "Han establecido un sistema de control de entradas y salidas en un autobús de la EMT, de este modo se espera poder monitorizar los ocupantes que lleva el autobús y detectar cuando este vaya al máximo de su capacidad. \n",
    "\n",
    "En cada parada, la entrada y salida de pasajeros es representada en una tupla por dos integers. \n",
    "\n",
    "`bus_stop = (in, out)` \n",
    "\n",
    "La sucesión de paradas se representa con una lista de tuplas. \n",
    "\n",
    "`stops = [(9, 2), (4, 4), (7, 3), (8, 2), (3, 4)]`\n",
    "\n",
    "\n",
    "1. Calcula el número de paradas.\n",
    "\n",
    "2. Asigna a una varialbe una lista que contenga como elementos el número de pasajeros total en cada parada (in-out).\n",
    "\n",
    "3. Calcula el máximo de ocupación de este autobús."
   ]
  },
  {
   "cell_type": "code",
   "execution_count": 142,
   "metadata": {
    "tags": []
   },
   "outputs": [
    {
     "output_type": "stream",
     "name": "stdout",
     "text": "Cantidad de paradas:5\n[(9, 0), (4, 4), (7, 3), (8, 2), (3, 4)]\n31\n13\n"
    }
   ],
   "source": [
    "stops = [(9, 0), (4, 4), (7, 3), (8, 2), (3, 4)]\n",
    "len(stops)\n",
    "print(\"Cantidad de paradas:\" + str(len(stops)))\n",
    "\n",
    "x = stops\n",
    "print(x)\n",
    "\n",
    "pasajeros_in = (9+4+7+8+3)\n",
    "print(pasajeros_in)\n",
    "pasajeros_out = (0+4+3+2+4)\n",
    "print(pasajeros_out)\n"
   ]
  },
  {
   "cell_type": "markdown",
   "metadata": {},
   "source": [
    "### Ejercicio 9\n",
    "\n",
    "En una base de datos SQL tenemos dos tablas con 2 columnas en una y 3 columnas en la otra. Una tabla se llama \"Persona\" y la otra se llama \"Banco\". \n",
    "\n",
    "*Esta es la estructura de las tablas:*\n",
    "\n",
    "-----------------------------\n",
    "\n",
    "La tabla \"Persona\" consta de: \n",
    "- Una columna \"DNI\", primare key, varchar\n",
    "- Una columna \"Edad\", int\n",
    "\n",
    "-----------------------------\n",
    "\n",
    "La tabla \"Banco\" consta de:\n",
    "- Una columna \"IBAN\", primare key, varchar\n",
    "- Una columna \"Usuario\" (que está representado por un DNI), varchar\n",
    "- Una columna \"Dinero\", int\n",
    "\n",
    "-----------------------------\n",
    "\n",
    "Escribir una consulta SQL que retorne los \"IBAN\" de los usuarios que tengan más de 22 años. "
   ]
  },
  {
   "cell_type": "code",
   "execution_count": 1,
   "metadata": {},
   "outputs": [],
   "source": [
    "# Respuesta ejercicio 9"
   ]
  },
  {
   "cell_type": "markdown",
   "metadata": {},
   "source": [
    "### Ejercicio 10\n",
    "\n",
    "Escribe un programa utilizando un `while` para que en cada iteración pregunte al usuario si quiere parar la ejecución y que solo pare su ejecución cuando el usuario escriba por pantalla \"PARAR\". \n",
    "\n",
    "Ten cuidado para que no se ejecute un bucle infinito.\n",
    "\n",
    "**La funcionalidad de este ejercicio debe estar contenido en una función.**"
   ]
  },
  {
   "cell_type": "code",
   "execution_count": null,
   "metadata": {},
   "outputs": [],
   "source": [
    "# Respuesta ejercicio 10"
   ]
  }
 ],
 "metadata": {
  "file_extension": ".py",
  "kernelspec": {
   "display_name": "Python 3",
   "language": "python",
   "name": "python3"
  },
  "language_info": {
   "codemirror_mode": {
    "name": "ipython",
    "version": 3
   },
   "file_extension": ".py",
   "mimetype": "text/x-python",
   "name": "python",
   "nbconvert_exporter": "python",
   "pygments_lexer": "ipython3",
   "version": "3.7.6"
  },
  "mimetype": "text/x-python",
  "name": "python",
  "npconvert_exporter": "python",
  "pygments_lexer": "ipython3",
  "version": 3
 },
 "nbformat": 4,
 "nbformat_minor": 4
}