{
 "cells": [
  {
   "cell_type": "markdown",
   "metadata": {},
   "source": [
    "# Delivery"
   ]
  },
  {
   "cell_type": "markdown",
   "metadata": {},
   "source": [
    "### Create your own EDA library: \n",
    "\n",
    "In this delivery the student will need to create its won library (module). The library must include the EDA functions we are seeing in class and you create. \n",
    "\n",
    "A python library is a \".py\" file that contains python code.\n",
    "\n",
    "There are some requirements: \n",
    "\n",
    "- EAch functionality must be done in functions.\n",
    "- Each function must be general. It must be useful for the most of cases.\n",
    "- Functions must not have repeated code. Each function must do something function.\n",
    "- The library should import others libraries as numpy, pandas, ...\n",
    "- Try to create a module \".py\" for each type of functionalty. If you are creating visualizing funcions, then the functions will be in a \"my_visualizing_functions_module.py\", for example. If you are creating analysis functions, then they will be in a \"my_analysis_functions_module.py\", for example. \n",
    "- Each function must be well documented. It must explain the functionality and each function param. \n",
    "- The code must be done in a \".py\" file. \n",
    "\n",
    "Delivery instructions:\n",
    "- End date: 12/07/2020 23:59 \n",
    "- Send to: \n",
    "\n",
    "    - clara.piniella@thebridgeschool.es\n",
    "    - gabriel@thebridgeschool.es\n",
    "\n",
    "\n",
    "\n",
    "\n"
   ]
  },
  {
   "cell_type": "code",
   "execution_count": 1,
   "metadata": {},
   "outputs": [],
   "source": [
    "import numpy"
   ]
  },
  {
   "cell_type": "code",
   "execution_count": 2,
   "metadata": {},
   "outputs": [
    {
     "output_type": "execute_result",
     "data": {
      "text/plain": "{1, 2, 3}"
     },
     "metadata": {},
     "execution_count": 2
    }
   ],
   "source": [
    "set([2, 2, 2, 1, 3, 3])"
   ]
  },
  {
   "cell_type": "code",
   "execution_count": 7,
   "metadata": {},
   "outputs": [
    {
     "output_type": "execute_result",
     "data": {
      "text/plain": "2528502973977326415"
     },
     "metadata": {},
     "execution_count": 7
    }
   ],
   "source": [
    "tuple_a = (1,2,3)\n",
    "tuple_a.__hash__()\n",
    "\n",
    "#es una \"id\" de los números o tuplas o listas, etc en términos matemáticos"
   ]
  },
  {
   "cell_type": "code",
   "execution_count": 11,
   "metadata": {},
   "outputs": [
    {
     "output_type": "execute_result",
     "data": {
      "text/plain": "(1, 2, 3)"
     },
     "metadata": {},
     "execution_count": 11
    }
   ],
   "source": [
    "tuple_a"
   ]
  },
  {
   "cell_type": "code",
   "execution_count": 12,
   "metadata": {},
   "outputs": [
    {
     "output_type": "execute_result",
     "data": {
      "text/plain": "array([1, 4, 7])"
     },
     "metadata": {},
     "execution_count": 12
    }
   ],
   "source": [
    "import numpy as np \n",
    "\n",
    "np.arange(start=1, stop=10, step=3)"
   ]
  },
  {
   "cell_type": "code",
   "execution_count": 15,
   "metadata": {},
   "outputs": [
    {
     "output_type": "execute_result",
     "data": {
      "text/plain": "array([1., 2., 3.])"
     },
     "metadata": {},
     "execution_count": 15
    }
   ],
   "source": [
    " arr1 = np.array([1, 2, 3], dtype=np.float64)\n",
    " arr1"
   ]
  },
  {
   "cell_type": "code",
   "execution_count": 16,
   "metadata": {},
   "outputs": [
    {
     "output_type": "execute_result",
     "data": {
      "text/plain": "array([1, 2, 3], dtype=int32)"
     },
     "metadata": {},
     "execution_count": 16
    }
   ],
   "source": [
    "arr2 = np.array([1, 2, 3], dtype=np.int32)\n",
    "arr2"
   ]
  },
  {
   "cell_type": "code",
   "execution_count": 7,
   "metadata": {},
   "outputs": [
    {
     "output_type": "execute_result",
     "data": {
      "text/plain": "[5, 4, 3, 2]"
     },
     "metadata": {},
     "execution_count": 7
    }
   ],
   "source": [
    "import your_module as ym\n",
    "x = [2, 3, 4, 5]\n",
    "ym.revert(x)\n",
    "\n"
   ]
  },
  {
   "cell_type": "code",
   "execution_count": 5,
   "metadata": {},
   "outputs": [],
   "source": [
    "import numpy as np"
   ]
  },
  {
   "cell_type": "code",
   "execution_count": 6,
   "metadata": {
    "tags": []
   },
   "outputs": [
    {
     "output_type": "stream",
     "name": "stdout",
     "text": "The array =  [2 3 4 5]\n"
    }
   ],
   "source": [
    "import your_module as ym \n",
    "z = np.array([2, 3, 4, 5])\n",
    "ym.tamano(z)\n"
   ]
  },
  {
   "cell_type": "code",
   "execution_count": null,
   "metadata": {},
   "outputs": [],
   "source": []
  },
  {
   "cell_type": "code",
   "execution_count": null,
   "metadata": {},
   "outputs": [],
   "source": []
  }
 ],
 "metadata": {
  "language_info": {
   "name": "python",
   "codemirror_mode": {
    "name": "ipython",
    "version": 3
   }
  },
  "orig_nbformat": 2,
  "file_extension": ".py",
  "mimetype": "text/x-python",
  "name": "python",
  "npconvert_exporter": "python",
  "pygments_lexer": "ipython3",
  "version": 3,
  "kernelspec": {
   "name": "python_defaultSpec_1594130888241",
   "display_name": "Python 3.7.6 64-bit ('base': conda)"
  }
 },
 "nbformat": 4,
 "nbformat_minor": 2
}